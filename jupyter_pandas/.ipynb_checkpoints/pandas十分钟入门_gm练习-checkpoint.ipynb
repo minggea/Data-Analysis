{
 "cells": [
  {
   "cell_type": "code",
   "execution_count": 1,
   "id": "f13b11de",
   "metadata": {},
   "outputs": [],
   "source": [
    "import numpy as np\n",
    "import pandas as pd"
   ]
  },
  {
   "cell_type": "markdown",
   "id": "27cc5f5a",
   "metadata": {},
   "source": [
    "# 一、认识 pandas 的 series和datefrme"
   ]
  },
  {
   "cell_type": "markdown",
   "id": "2253b39b",
   "metadata": {},
   "source": [
    "## pd.Series()  --生成series\n",
    "    Series里可以存放 np.nan 空值（pandas 和 np 其实就是俩兄弟）\n",
    "    pandas 和 numpy的区别在于：Series元素左边有索引列，ndarray是不显示索引的"
   ]
  },
  {
   "cell_type": "code",
   "execution_count": 2,
   "id": "8d723292",
   "metadata": {},
   "outputs": [
    {
     "name": "stdout",
     "output_type": "stream",
     "text": [
      "<class 'pandas.core.series.Series'>\n",
      "0    1.0\n",
      "1    3.0\n",
      "2    5.0\n",
      "3    NaN\n",
      "4    6.0\n",
      "5    8.0\n",
      "dtype: float64\n"
     ]
    }
   ],
   "source": [
    "s = pd.Series([1, 3, 5, np.nan, 6, 8])\n",
    "\n",
    "print(type(s))\n",
    "print(s)"
   ]
  },
  {
   "cell_type": "markdown",
   "id": "4057649a",
   "metadata": {},
   "source": [
    "## pd.date_range()  --生成时间序列\n",
    "    \n",
    "    '20130101'    指定开始日期\n",
    "    period=6     说明生成 6期 的时间序列\n",
    "    dtype='datetime64[ns]'    说明每个元素的类型是 datetime64,存储格式是ns\n",
    "    freq        指时间频率  'D'是天，还可以是小时、分钟、周、月、年"
   ]
  },
  {
   "cell_type": "code",
   "execution_count": 3,
   "id": "eb812c0d",
   "metadata": {},
   "outputs": [
    {
     "name": "stdout",
     "output_type": "stream",
     "text": [
      "<class 'pandas.core.indexes.datetimes.DatetimeIndex'>\n",
      "DatetimeIndex(['2013-01-01', '2013-01-02', '2013-01-03', '2013-01-04',\n",
      "               '2013-01-05', '2013-01-06'],\n",
      "              dtype='datetime64[ns]', freq='D')\n"
     ]
    }
   ],
   "source": [
    "dates = pd.date_range('20130101', periods=6)\n",
    "print(type(dates))\n",
    "print(dates)"
   ]
  },
  {
   "cell_type": "markdown",
   "id": "6c3818f6",
   "metadata": {},
   "source": [
    "## pd.DataFrame()  --生成dataframe\n",
    "    DateFram 相当于是多个 Series组成的表\n",
    "    除了 类似Series的索引，还能指定列的索引"
   ]
  },
  {
   "cell_type": "code",
   "execution_count": 4,
   "id": "0a49b124",
   "metadata": {},
   "outputs": [
    {
     "name": "stdout",
     "output_type": "stream",
     "text": [
      "<class 'pandas.core.frame.DataFrame'>\n"
     ]
    },
    {
     "data": {
      "text/html": [
       "<div>\n",
       "<style scoped>\n",
       "    .dataframe tbody tr th:only-of-type {\n",
       "        vertical-align: middle;\n",
       "    }\n",
       "\n",
       "    .dataframe tbody tr th {\n",
       "        vertical-align: top;\n",
       "    }\n",
       "\n",
       "    .dataframe thead th {\n",
       "        text-align: right;\n",
       "    }\n",
       "</style>\n",
       "<table border=\"1\" class=\"dataframe\">\n",
       "  <thead>\n",
       "    <tr style=\"text-align: right;\">\n",
       "      <th></th>\n",
       "      <th>A</th>\n",
       "      <th>B</th>\n",
       "      <th>C</th>\n",
       "      <th>D</th>\n",
       "    </tr>\n",
       "  </thead>\n",
       "  <tbody>\n",
       "    <tr>\n",
       "      <th>2013-01-01</th>\n",
       "      <td>0.382576</td>\n",
       "      <td>-2.726750</td>\n",
       "      <td>1.935586</td>\n",
       "      <td>-0.501200</td>\n",
       "    </tr>\n",
       "    <tr>\n",
       "      <th>2013-01-02</th>\n",
       "      <td>1.156452</td>\n",
       "      <td>-0.114670</td>\n",
       "      <td>0.316719</td>\n",
       "      <td>-0.547264</td>\n",
       "    </tr>\n",
       "    <tr>\n",
       "      <th>2013-01-03</th>\n",
       "      <td>0.032979</td>\n",
       "      <td>0.174433</td>\n",
       "      <td>1.441402</td>\n",
       "      <td>0.000685</td>\n",
       "    </tr>\n",
       "    <tr>\n",
       "      <th>2013-01-04</th>\n",
       "      <td>-0.465938</td>\n",
       "      <td>0.217968</td>\n",
       "      <td>-0.047657</td>\n",
       "      <td>0.848474</td>\n",
       "    </tr>\n",
       "    <tr>\n",
       "      <th>2013-01-05</th>\n",
       "      <td>0.620594</td>\n",
       "      <td>0.837374</td>\n",
       "      <td>0.287414</td>\n",
       "      <td>-0.480093</td>\n",
       "    </tr>\n",
       "    <tr>\n",
       "      <th>2013-01-06</th>\n",
       "      <td>-0.699938</td>\n",
       "      <td>-0.232387</td>\n",
       "      <td>-0.315744</td>\n",
       "      <td>-2.433780</td>\n",
       "    </tr>\n",
       "  </tbody>\n",
       "</table>\n",
       "</div>"
      ],
      "text/plain": [
       "                   A         B         C         D\n",
       "2013-01-01  0.382576 -2.726750  1.935586 -0.501200\n",
       "2013-01-02  1.156452 -0.114670  0.316719 -0.547264\n",
       "2013-01-03  0.032979  0.174433  1.441402  0.000685\n",
       "2013-01-04 -0.465938  0.217968 -0.047657  0.848474\n",
       "2013-01-05  0.620594  0.837374  0.287414 -0.480093\n",
       "2013-01-06 -0.699938 -0.232387 -0.315744 -2.433780"
      ]
     },
     "execution_count": 4,
     "metadata": {},
     "output_type": "execute_result"
    }
   ],
   "source": [
    "df = pd.DataFrame(np.random.randn(6, 4), index=dates, columns=list('ABCD'))\n",
    "print(type(df))\n",
    "df"
   ]
  },
  {
   "cell_type": "markdown",
   "id": "7e665d7a",
   "metadata": {},
   "source": [
    "## pd.DataFrame(字典)  --用字典生成dataframe"
   ]
  },
  {
   "cell_type": "code",
   "execution_count": 32,
   "id": "95cd4fb3",
   "metadata": {},
   "outputs": [
    {
     "name": "stdout",
     "output_type": "stream",
     "text": [
      "   key  lval\n",
      "0  foo     1\n",
      "1  foo     2\n",
      "----------------------------------------------------------------------------------------------------\n",
      "   key  rval\n",
      "0  foo     4\n",
      "1  foo     5\n",
      "----------------------------------------------------------------------------------------------------\n"
     ]
    }
   ],
   "source": [
    "import numpy as np\n",
    "import pandas as pd\n",
    "\n",
    "left = pd.DataFrame({'key': ['foo', 'foo'], 'lval': [1, 2]})  # 一个键值对 对应一个 列，键是列名，值是元素\n",
    "right = pd.DataFrame({'key': ['foo', 'foo'], 'rval': [4, 5]})\n",
    "print(left)\n",
    "print('-'*100)\n",
    "print(right)\n",
    "print('-'*100)"
   ]
  },
  {
   "cell_type": "markdown",
   "id": "0f0f9ddb",
   "metadata": {},
   "source": [
    "### 只有 Series 会打印这一列的 dtype , dateFrame 是不会打印dtype 的（即使只有一列）"
   ]
  },
  {
   "cell_type": "code",
   "execution_count": 5,
   "id": "1bae33a9",
   "metadata": {},
   "outputs": [
    {
     "data": {
      "text/html": [
       "<div>\n",
       "<style scoped>\n",
       "    .dataframe tbody tr th:only-of-type {\n",
       "        vertical-align: middle;\n",
       "    }\n",
       "\n",
       "    .dataframe tbody tr th {\n",
       "        vertical-align: top;\n",
       "    }\n",
       "\n",
       "    .dataframe thead th {\n",
       "        text-align: right;\n",
       "    }\n",
       "</style>\n",
       "<table border=\"1\" class=\"dataframe\">\n",
       "  <thead>\n",
       "    <tr style=\"text-align: right;\">\n",
       "      <th></th>\n",
       "      <th>A</th>\n",
       "      <th>B</th>\n",
       "      <th>C</th>\n",
       "      <th>D</th>\n",
       "      <th>E</th>\n",
       "      <th>F</th>\n",
       "    </tr>\n",
       "  </thead>\n",
       "  <tbody>\n",
       "    <tr>\n",
       "      <th>0</th>\n",
       "      <td>1.0</td>\n",
       "      <td>2013-01-02</td>\n",
       "      <td>2.0</td>\n",
       "      <td>1</td>\n",
       "      <td>test</td>\n",
       "      <td>foo</td>\n",
       "    </tr>\n",
       "    <tr>\n",
       "      <th>1</th>\n",
       "      <td>1.0</td>\n",
       "      <td>2013-01-02</td>\n",
       "      <td>2.0</td>\n",
       "      <td>2</td>\n",
       "      <td>train</td>\n",
       "      <td>foo</td>\n",
       "    </tr>\n",
       "    <tr>\n",
       "      <th>2</th>\n",
       "      <td>1.0</td>\n",
       "      <td>2013-01-02</td>\n",
       "      <td>2.0</td>\n",
       "      <td>3</td>\n",
       "      <td>test</td>\n",
       "      <td>foo</td>\n",
       "    </tr>\n",
       "    <tr>\n",
       "      <th>3</th>\n",
       "      <td>1.0</td>\n",
       "      <td>2013-01-02</td>\n",
       "      <td>2.0</td>\n",
       "      <td>4</td>\n",
       "      <td>train</td>\n",
       "      <td>foo</td>\n",
       "    </tr>\n",
       "  </tbody>\n",
       "</table>\n",
       "</div>"
      ],
      "text/plain": [
       "     A          B    C  D      E    F\n",
       "0  1.0 2013-01-02  2.0  1   test  foo\n",
       "1  1.0 2013-01-02  2.0  2  train  foo\n",
       "2  1.0 2013-01-02  2.0  3   test  foo\n",
       "3  1.0 2013-01-02  2.0  4  train  foo"
      ]
     },
     "execution_count": 5,
     "metadata": {},
     "output_type": "execute_result"
    }
   ],
   "source": [
    "df2 = pd.DataFrame({'A': 1.,\n",
    "                    'B': pd.Timestamp('20130102'),\n",
    "                    'C': pd.Series(2, index=list(range(4)), dtype='float32'),\n",
    "                    'D': np.array([1,2,3,4], dtype='int32'),\n",
    "                    'E': pd.Categorical([\"test\", \"train\", \"test\", \"train\"]),\n",
    "                    'F': 'foo'})\n",
    "df2"
   ]
  },
  {
   "cell_type": "code",
   "execution_count": 6,
   "id": "7039633a",
   "metadata": {},
   "outputs": [
    {
     "data": {
      "text/html": [
       "<div>\n",
       "<style scoped>\n",
       "    .dataframe tbody tr th:only-of-type {\n",
       "        vertical-align: middle;\n",
       "    }\n",
       "\n",
       "    .dataframe tbody tr th {\n",
       "        vertical-align: top;\n",
       "    }\n",
       "\n",
       "    .dataframe thead th {\n",
       "        text-align: right;\n",
       "    }\n",
       "</style>\n",
       "<table border=\"1\" class=\"dataframe\">\n",
       "  <thead>\n",
       "    <tr style=\"text-align: right;\">\n",
       "      <th></th>\n",
       "      <th>C</th>\n",
       "    </tr>\n",
       "  </thead>\n",
       "  <tbody>\n",
       "    <tr>\n",
       "      <th>0</th>\n",
       "      <td>2.0</td>\n",
       "    </tr>\n",
       "    <tr>\n",
       "      <th>1</th>\n",
       "      <td>2.0</td>\n",
       "    </tr>\n",
       "    <tr>\n",
       "      <th>2</th>\n",
       "      <td>2.0</td>\n",
       "    </tr>\n",
       "    <tr>\n",
       "      <th>3</th>\n",
       "      <td>2.0</td>\n",
       "    </tr>\n",
       "  </tbody>\n",
       "</table>\n",
       "</div>"
      ],
      "text/plain": [
       "     C\n",
       "0  2.0\n",
       "1  2.0\n",
       "2  2.0\n",
       "3  2.0"
      ]
     },
     "execution_count": 6,
     "metadata": {},
     "output_type": "execute_result"
    }
   ],
   "source": [
    "df3 = pd.DataFrame({'C': pd.Series(2, index=list(range(4)), dtype='float32')})\n",
    "df3"
   ]
  },
  {
   "cell_type": "markdown",
   "id": "7e2219fc",
   "metadata": {},
   "source": [
    "## 要想查看 dataframe 的数据类型，只有通过 df.dtypes "
   ]
  },
  {
   "cell_type": "code",
   "execution_count": 7,
   "id": "2e110271",
   "metadata": {},
   "outputs": [
    {
     "data": {
      "text/plain": [
       "A           float64\n",
       "B    datetime64[ns]\n",
       "C           float32\n",
       "D             int32\n",
       "E          category\n",
       "F            object\n",
       "dtype: object"
      ]
     },
     "execution_count": 7,
     "metadata": {},
     "output_type": "execute_result"
    }
   ],
   "source": [
    "df2.dtypes"
   ]
  },
  {
   "cell_type": "markdown",
   "id": "b409e785",
   "metadata": {},
   "source": [
    "## df.head(2)  --查看dateframe 前两行"
   ]
  },
  {
   "cell_type": "code",
   "execution_count": 9,
   "id": "b2300eb6",
   "metadata": {},
   "outputs": [
    {
     "data": {
      "text/html": [
       "<div>\n",
       "<style scoped>\n",
       "    .dataframe tbody tr th:only-of-type {\n",
       "        vertical-align: middle;\n",
       "    }\n",
       "\n",
       "    .dataframe tbody tr th {\n",
       "        vertical-align: top;\n",
       "    }\n",
       "\n",
       "    .dataframe thead th {\n",
       "        text-align: right;\n",
       "    }\n",
       "</style>\n",
       "<table border=\"1\" class=\"dataframe\">\n",
       "  <thead>\n",
       "    <tr style=\"text-align: right;\">\n",
       "      <th></th>\n",
       "      <th>A</th>\n",
       "      <th>B</th>\n",
       "      <th>C</th>\n",
       "      <th>D</th>\n",
       "    </tr>\n",
       "  </thead>\n",
       "  <tbody>\n",
       "    <tr>\n",
       "      <th>2013-01-01</th>\n",
       "      <td>0.382576</td>\n",
       "      <td>-2.72675</td>\n",
       "      <td>1.935586</td>\n",
       "      <td>-0.501200</td>\n",
       "    </tr>\n",
       "    <tr>\n",
       "      <th>2013-01-02</th>\n",
       "      <td>1.156452</td>\n",
       "      <td>-0.11467</td>\n",
       "      <td>0.316719</td>\n",
       "      <td>-0.547264</td>\n",
       "    </tr>\n",
       "  </tbody>\n",
       "</table>\n",
       "</div>"
      ],
      "text/plain": [
       "                   A        B         C         D\n",
       "2013-01-01  0.382576 -2.72675  1.935586 -0.501200\n",
       "2013-01-02  1.156452 -0.11467  0.316719 -0.547264"
      ]
     },
     "execution_count": 9,
     "metadata": {},
     "output_type": "execute_result"
    }
   ],
   "source": [
    "df.head(2)"
   ]
  },
  {
   "cell_type": "markdown",
   "id": "563dbb0c",
   "metadata": {},
   "source": [
    "## df.tail(3)  --查看dateframe 尾三行"
   ]
  },
  {
   "cell_type": "code",
   "execution_count": 10,
   "id": "d517e3c7",
   "metadata": {},
   "outputs": [
    {
     "data": {
      "text/html": [
       "<div>\n",
       "<style scoped>\n",
       "    .dataframe tbody tr th:only-of-type {\n",
       "        vertical-align: middle;\n",
       "    }\n",
       "\n",
       "    .dataframe tbody tr th {\n",
       "        vertical-align: top;\n",
       "    }\n",
       "\n",
       "    .dataframe thead th {\n",
       "        text-align: right;\n",
       "    }\n",
       "</style>\n",
       "<table border=\"1\" class=\"dataframe\">\n",
       "  <thead>\n",
       "    <tr style=\"text-align: right;\">\n",
       "      <th></th>\n",
       "      <th>A</th>\n",
       "      <th>B</th>\n",
       "      <th>C</th>\n",
       "      <th>D</th>\n",
       "    </tr>\n",
       "  </thead>\n",
       "  <tbody>\n",
       "    <tr>\n",
       "      <th>2013-01-04</th>\n",
       "      <td>-0.465938</td>\n",
       "      <td>0.217968</td>\n",
       "      <td>-0.047657</td>\n",
       "      <td>0.848474</td>\n",
       "    </tr>\n",
       "    <tr>\n",
       "      <th>2013-01-05</th>\n",
       "      <td>0.620594</td>\n",
       "      <td>0.837374</td>\n",
       "      <td>0.287414</td>\n",
       "      <td>-0.480093</td>\n",
       "    </tr>\n",
       "    <tr>\n",
       "      <th>2013-01-06</th>\n",
       "      <td>-0.699938</td>\n",
       "      <td>-0.232387</td>\n",
       "      <td>-0.315744</td>\n",
       "      <td>-2.433780</td>\n",
       "    </tr>\n",
       "  </tbody>\n",
       "</table>\n",
       "</div>"
      ],
      "text/plain": [
       "                   A         B         C         D\n",
       "2013-01-04 -0.465938  0.217968 -0.047657  0.848474\n",
       "2013-01-05  0.620594  0.837374  0.287414 -0.480093\n",
       "2013-01-06 -0.699938 -0.232387 -0.315744 -2.433780"
      ]
     },
     "execution_count": 10,
     "metadata": {},
     "output_type": "execute_result"
    }
   ],
   "source": [
    "df.tail(3)"
   ]
  },
  {
   "cell_type": "markdown",
   "id": "d797ca39",
   "metadata": {},
   "source": [
    "## df.index  --看行索引\n",
    "## df.columns  --看列索引"
   ]
  },
  {
   "cell_type": "code",
   "execution_count": 11,
   "id": "8216f718",
   "metadata": {},
   "outputs": [
    {
     "name": "stdout",
     "output_type": "stream",
     "text": [
      "                   A         B         C         D\n",
      "2013-01-01  0.382576 -2.726750  1.935586 -0.501200\n",
      "2013-01-02  1.156452 -0.114670  0.316719 -0.547264\n",
      "2013-01-03  0.032979  0.174433  1.441402  0.000685\n",
      "2013-01-04 -0.465938  0.217968 -0.047657  0.848474\n",
      "2013-01-05  0.620594  0.837374  0.287414 -0.480093\n",
      "2013-01-06 -0.699938 -0.232387 -0.315744 -2.433780\n",
      "DatetimeIndex(['2013-01-01', '2013-01-02', '2013-01-03', '2013-01-04',\n",
      "               '2013-01-05', '2013-01-06'],\n",
      "              dtype='datetime64[ns]', freq='D')\n",
      "Index(['A', 'B', 'C', 'D'], dtype='object')\n"
     ]
    }
   ],
   "source": [
    "print(df)\n",
    "print(df.index)\n",
    "print(df.columns)"
   ]
  },
  {
   "cell_type": "markdown",
   "id": "b75f64dd",
   "metadata": {},
   "source": [
    "## dataframe 转为 ndarray"
   ]
  },
  {
   "cell_type": "code",
   "execution_count": 12,
   "id": "9a75ae85",
   "metadata": {},
   "outputs": [
    {
     "name": "stdout",
     "output_type": "stream",
     "text": [
      "[[ 3.82575528e-01 -2.72675014e+00  1.93558599e+00 -5.01199978e-01]\n",
      " [ 1.15645218e+00 -1.14669694e-01  3.16718802e-01 -5.47264038e-01]\n",
      " [ 3.29792554e-02  1.74433274e-01  1.44140244e+00  6.84900141e-04]\n",
      " [-4.65937503e-01  2.17968429e-01 -4.76572947e-02  8.48473746e-01]\n",
      " [ 6.20594337e-01  8.37373850e-01  2.87414216e-01 -4.80093279e-01]\n",
      " [-6.99937711e-01 -2.32387068e-01 -3.15744167e-01 -2.43377989e+00]]\n",
      "                   A         B         C         D\n",
      "2013-01-01  0.382576 -2.726750  1.935586 -0.501200\n",
      "2013-01-02  1.156452 -0.114670  0.316719 -0.547264\n",
      "2013-01-03  0.032979  0.174433  1.441402  0.000685\n",
      "2013-01-04 -0.465938  0.217968 -0.047657  0.848474\n",
      "2013-01-05  0.620594  0.837374  0.287414 -0.480093\n",
      "2013-01-06 -0.699938 -0.232387 -0.315744 -2.433780\n"
     ]
    }
   ],
   "source": [
    "print(df.to_numpy())  # 不会改变df\n",
    "print(df)"
   ]
  },
  {
   "cell_type": "code",
   "execution_count": 13,
   "id": "0f2041ac",
   "metadata": {},
   "outputs": [
    {
     "name": "stdout",
     "output_type": "stream",
     "text": [
      "     A          B    C  D      E    F\n",
      "0  1.0 2013-01-02  2.0  1   test  foo\n",
      "1  1.0 2013-01-02  2.0  2  train  foo\n",
      "2  1.0 2013-01-02  2.0  3   test  foo\n",
      "3  1.0 2013-01-02  2.0  4  train  foo\n",
      "\n",
      "[[1.0 Timestamp('2013-01-02 00:00:00') 2.0 1 'test' 'foo']\n",
      " [1.0 Timestamp('2013-01-02 00:00:00') 2.0 2 'train' 'foo']\n",
      " [1.0 Timestamp('2013-01-02 00:00:00') 2.0 3 'test' 'foo']\n",
      " [1.0 Timestamp('2013-01-02 00:00:00') 2.0 4 'train' 'foo']]\n",
      "<class 'numpy.ndarray'>\n"
     ]
    },
    {
     "data": {
      "text/plain": [
       "str"
      ]
     },
     "execution_count": 13,
     "metadata": {},
     "output_type": "execute_result"
    }
   ],
   "source": [
    "print(df2)\n",
    "print()\n",
    "\n",
    "t = df2.to_numpy()\n",
    "print(t)\n",
    "print(type(t))\n",
    "type(t[0][4])"
   ]
  },
  {
   "cell_type": "markdown",
   "id": "64e1e5c1",
   "metadata": {},
   "source": [
    "## describle()  --查看 dataframe 详细信息\n",
    "    count    这列总共多少数据\n",
    "    mean    这列数据的平均数\n",
    "    std     方差\n",
    "    min     最小值\n",
    "    25%     四分之一位数\n",
    "    50%     中位数\n",
    "    75%     四分之三位数\n",
    "    max     最大值"
   ]
  },
  {
   "cell_type": "code",
   "execution_count": 21,
   "id": "b54af2b0",
   "metadata": {},
   "outputs": [
    {
     "name": "stdout",
     "output_type": "stream",
     "text": [
      "                   A         B         C         D\n",
      "2013-01-01  0.382576 -2.726750  1.935586 -0.501200\n",
      "2013-01-02  1.156452 -0.114670  0.316719 -0.547264\n",
      "2013-01-03  0.032979  0.174433  1.441402  0.000685\n",
      "2013-01-04 -0.465938  0.217968 -0.047657  0.848474\n",
      "2013-01-05  0.620594  0.837374  0.287414 -0.480093\n",
      "2013-01-06 -0.699938 -0.232387 -0.315744 -2.433780\n"
     ]
    },
    {
     "data": {
      "text/html": [
       "<div>\n",
       "<style scoped>\n",
       "    .dataframe tbody tr th:only-of-type {\n",
       "        vertical-align: middle;\n",
       "    }\n",
       "\n",
       "    .dataframe tbody tr th {\n",
       "        vertical-align: top;\n",
       "    }\n",
       "\n",
       "    .dataframe thead th {\n",
       "        text-align: right;\n",
       "    }\n",
       "</style>\n",
       "<table border=\"1\" class=\"dataframe\">\n",
       "  <thead>\n",
       "    <tr style=\"text-align: right;\">\n",
       "      <th></th>\n",
       "      <th>A</th>\n",
       "      <th>B</th>\n",
       "      <th>C</th>\n",
       "      <th>D</th>\n",
       "    </tr>\n",
       "  </thead>\n",
       "  <tbody>\n",
       "    <tr>\n",
       "      <th>count</th>\n",
       "      <td>6.000000</td>\n",
       "      <td>6.000000</td>\n",
       "      <td>6.000000</td>\n",
       "      <td>6.000000</td>\n",
       "    </tr>\n",
       "    <tr>\n",
       "      <th>mean</th>\n",
       "      <td>0.171121</td>\n",
       "      <td>-0.307339</td>\n",
       "      <td>0.602953</td>\n",
       "      <td>-0.518863</td>\n",
       "    </tr>\n",
       "    <tr>\n",
       "      <th>std</th>\n",
       "      <td>0.693006</td>\n",
       "      <td>1.242152</td>\n",
       "      <td>0.886307</td>\n",
       "      <td>1.077875</td>\n",
       "    </tr>\n",
       "    <tr>\n",
       "      <th>min</th>\n",
       "      <td>-0.699938</td>\n",
       "      <td>-2.726750</td>\n",
       "      <td>-0.315744</td>\n",
       "      <td>-2.433780</td>\n",
       "    </tr>\n",
       "    <tr>\n",
       "      <th>25%</th>\n",
       "      <td>-0.341208</td>\n",
       "      <td>-0.202958</td>\n",
       "      <td>0.036111</td>\n",
       "      <td>-0.535748</td>\n",
       "    </tr>\n",
       "    <tr>\n",
       "      <th>50%</th>\n",
       "      <td>0.207777</td>\n",
       "      <td>0.029882</td>\n",
       "      <td>0.302067</td>\n",
       "      <td>-0.490647</td>\n",
       "    </tr>\n",
       "    <tr>\n",
       "      <th>75%</th>\n",
       "      <td>0.561090</td>\n",
       "      <td>0.207085</td>\n",
       "      <td>1.160232</td>\n",
       "      <td>-0.119510</td>\n",
       "    </tr>\n",
       "    <tr>\n",
       "      <th>max</th>\n",
       "      <td>1.156452</td>\n",
       "      <td>0.837374</td>\n",
       "      <td>1.935586</td>\n",
       "      <td>0.848474</td>\n",
       "    </tr>\n",
       "  </tbody>\n",
       "</table>\n",
       "</div>"
      ],
      "text/plain": [
       "              A         B         C         D\n",
       "count  6.000000  6.000000  6.000000  6.000000\n",
       "mean   0.171121 -0.307339  0.602953 -0.518863\n",
       "std    0.693006  1.242152  0.886307  1.077875\n",
       "min   -0.699938 -2.726750 -0.315744 -2.433780\n",
       "25%   -0.341208 -0.202958  0.036111 -0.535748\n",
       "50%    0.207777  0.029882  0.302067 -0.490647\n",
       "75%    0.561090  0.207085  1.160232 -0.119510\n",
       "max    1.156452  0.837374  1.935586  0.848474"
      ]
     },
     "execution_count": 21,
     "metadata": {},
     "output_type": "execute_result"
    }
   ],
   "source": [
    "print(df)\n",
    "df.describe()"
   ]
  },
  {
   "cell_type": "markdown",
   "id": "e5be021f",
   "metadata": {},
   "source": [
    "# 二、dataframe 的排序"
   ]
  },
  {
   "cell_type": "markdown",
   "id": "6c29685e",
   "metadata": {},
   "source": [
    "## df.sort_index() --索引排序\n",
    "    df0.sort_index(axis=0, ascending=False)\n",
    "    参数说明：\n",
    "    axis=0         对轴0上的索引排序\n",
    "    ascending=False   降序排序，升序的话是True"
   ]
  },
  {
   "cell_type": "code",
   "execution_count": 24,
   "id": "90d14510",
   "metadata": {},
   "outputs": [
    {
     "name": "stdout",
     "output_type": "stream",
     "text": [
      "                   A         B         C         D\n",
      "2013-01-01 -0.068568 -0.845897 -1.123323 -0.920553\n",
      "2013-01-02 -0.840430 -0.281501  0.628131 -0.258064\n",
      "2013-01-03  0.726544  2.536275 -0.310472 -0.587319\n",
      "2013-01-04 -0.315393 -0.050812 -0.471146  0.091158\n",
      "2013-01-05 -1.031936 -0.237405  0.044191 -1.465401\n",
      "2013-01-06  1.866167 -0.466395 -0.297271  0.413799\n"
     ]
    },
    {
     "data": {
      "text/html": [
       "<div>\n",
       "<style scoped>\n",
       "    .dataframe tbody tr th:only-of-type {\n",
       "        vertical-align: middle;\n",
       "    }\n",
       "\n",
       "    .dataframe tbody tr th {\n",
       "        vertical-align: top;\n",
       "    }\n",
       "\n",
       "    .dataframe thead th {\n",
       "        text-align: right;\n",
       "    }\n",
       "</style>\n",
       "<table border=\"1\" class=\"dataframe\">\n",
       "  <thead>\n",
       "    <tr style=\"text-align: right;\">\n",
       "      <th></th>\n",
       "      <th>A</th>\n",
       "      <th>B</th>\n",
       "      <th>C</th>\n",
       "      <th>D</th>\n",
       "    </tr>\n",
       "  </thead>\n",
       "  <tbody>\n",
       "    <tr>\n",
       "      <th>2013-01-06</th>\n",
       "      <td>1.866167</td>\n",
       "      <td>-0.466395</td>\n",
       "      <td>-0.297271</td>\n",
       "      <td>0.413799</td>\n",
       "    </tr>\n",
       "    <tr>\n",
       "      <th>2013-01-05</th>\n",
       "      <td>-1.031936</td>\n",
       "      <td>-0.237405</td>\n",
       "      <td>0.044191</td>\n",
       "      <td>-1.465401</td>\n",
       "    </tr>\n",
       "    <tr>\n",
       "      <th>2013-01-04</th>\n",
       "      <td>-0.315393</td>\n",
       "      <td>-0.050812</td>\n",
       "      <td>-0.471146</td>\n",
       "      <td>0.091158</td>\n",
       "    </tr>\n",
       "    <tr>\n",
       "      <th>2013-01-03</th>\n",
       "      <td>0.726544</td>\n",
       "      <td>2.536275</td>\n",
       "      <td>-0.310472</td>\n",
       "      <td>-0.587319</td>\n",
       "    </tr>\n",
       "    <tr>\n",
       "      <th>2013-01-02</th>\n",
       "      <td>-0.840430</td>\n",
       "      <td>-0.281501</td>\n",
       "      <td>0.628131</td>\n",
       "      <td>-0.258064</td>\n",
       "    </tr>\n",
       "    <tr>\n",
       "      <th>2013-01-01</th>\n",
       "      <td>-0.068568</td>\n",
       "      <td>-0.845897</td>\n",
       "      <td>-1.123323</td>\n",
       "      <td>-0.920553</td>\n",
       "    </tr>\n",
       "  </tbody>\n",
       "</table>\n",
       "</div>"
      ],
      "text/plain": [
       "                   A         B         C         D\n",
       "2013-01-06  1.866167 -0.466395 -0.297271  0.413799\n",
       "2013-01-05 -1.031936 -0.237405  0.044191 -1.465401\n",
       "2013-01-04 -0.315393 -0.050812 -0.471146  0.091158\n",
       "2013-01-03  0.726544  2.536275 -0.310472 -0.587319\n",
       "2013-01-02 -0.840430 -0.281501  0.628131 -0.258064\n",
       "2013-01-01 -0.068568 -0.845897 -1.123323 -0.920553"
      ]
     },
     "execution_count": 24,
     "metadata": {},
     "output_type": "execute_result"
    }
   ],
   "source": [
    "import numpy as np\n",
    "import pandas as pd\n",
    "\n",
    "dates = pd.date_range('20130101', periods=6)\n",
    "df0 = pd.DataFrame(np.random.randn(6, 4), index=dates, columns=list('ABCD'))\n",
    "print(df0)\n",
    "\n",
    "df0.sort_index(axis=0, ascending=False)"
   ]
  },
  {
   "cell_type": "markdown",
   "id": "94b14e71",
   "metadata": {},
   "source": [
    "## df.sort_values()  --对某一列的数据排序\n",
    "    df0.sort_values(by='B',ascending=False)\n",
    "    参数说明：\n",
    "    by='B'         对名为 B 的那一列的数据进行排序\n",
    "    ascending=False   降序排序"
   ]
  },
  {
   "cell_type": "code",
   "execution_count": 29,
   "id": "31f61851",
   "metadata": {},
   "outputs": [
    {
     "name": "stdout",
     "output_type": "stream",
     "text": [
      "                   A         B         C         D\n",
      "2013-01-01 -1.732081 -1.262751  0.381345  1.989918\n",
      "2013-01-02 -0.819140 -0.890431 -0.165468  1.171403\n",
      "2013-01-03  1.240431  1.132263  0.736245  0.399990\n",
      "2013-01-04 -0.206100  1.848736 -1.713012  0.809256\n",
      "2013-01-05  2.730864  2.578779  2.317989 -0.424956\n",
      "2013-01-06 -0.430736 -1.215777  0.356027 -1.569959\n"
     ]
    },
    {
     "data": {
      "text/html": [
       "<div>\n",
       "<style scoped>\n",
       "    .dataframe tbody tr th:only-of-type {\n",
       "        vertical-align: middle;\n",
       "    }\n",
       "\n",
       "    .dataframe tbody tr th {\n",
       "        vertical-align: top;\n",
       "    }\n",
       "\n",
       "    .dataframe thead th {\n",
       "        text-align: right;\n",
       "    }\n",
       "</style>\n",
       "<table border=\"1\" class=\"dataframe\">\n",
       "  <thead>\n",
       "    <tr style=\"text-align: right;\">\n",
       "      <th></th>\n",
       "      <th>A</th>\n",
       "      <th>B</th>\n",
       "      <th>C</th>\n",
       "      <th>D</th>\n",
       "    </tr>\n",
       "  </thead>\n",
       "  <tbody>\n",
       "    <tr>\n",
       "      <th>2013-01-05</th>\n",
       "      <td>2.730864</td>\n",
       "      <td>2.578779</td>\n",
       "      <td>2.317989</td>\n",
       "      <td>-0.424956</td>\n",
       "    </tr>\n",
       "    <tr>\n",
       "      <th>2013-01-04</th>\n",
       "      <td>-0.206100</td>\n",
       "      <td>1.848736</td>\n",
       "      <td>-1.713012</td>\n",
       "      <td>0.809256</td>\n",
       "    </tr>\n",
       "    <tr>\n",
       "      <th>2013-01-03</th>\n",
       "      <td>1.240431</td>\n",
       "      <td>1.132263</td>\n",
       "      <td>0.736245</td>\n",
       "      <td>0.399990</td>\n",
       "    </tr>\n",
       "    <tr>\n",
       "      <th>2013-01-02</th>\n",
       "      <td>-0.819140</td>\n",
       "      <td>-0.890431</td>\n",
       "      <td>-0.165468</td>\n",
       "      <td>1.171403</td>\n",
       "    </tr>\n",
       "    <tr>\n",
       "      <th>2013-01-06</th>\n",
       "      <td>-0.430736</td>\n",
       "      <td>-1.215777</td>\n",
       "      <td>0.356027</td>\n",
       "      <td>-1.569959</td>\n",
       "    </tr>\n",
       "    <tr>\n",
       "      <th>2013-01-01</th>\n",
       "      <td>-1.732081</td>\n",
       "      <td>-1.262751</td>\n",
       "      <td>0.381345</td>\n",
       "      <td>1.989918</td>\n",
       "    </tr>\n",
       "  </tbody>\n",
       "</table>\n",
       "</div>"
      ],
      "text/plain": [
       "                   A         B         C         D\n",
       "2013-01-05  2.730864  2.578779  2.317989 -0.424956\n",
       "2013-01-04 -0.206100  1.848736 -1.713012  0.809256\n",
       "2013-01-03  1.240431  1.132263  0.736245  0.399990\n",
       "2013-01-02 -0.819140 -0.890431 -0.165468  1.171403\n",
       "2013-01-06 -0.430736 -1.215777  0.356027 -1.569959\n",
       "2013-01-01 -1.732081 -1.262751  0.381345  1.989918"
      ]
     },
     "execution_count": 29,
     "metadata": {},
     "output_type": "execute_result"
    }
   ],
   "source": [
    "import numpy as np\n",
    "import pandas as pd\n",
    "\n",
    "dates = pd.date_range('20130101', periods=6)\n",
    "df0 = pd.DataFrame(np.random.randn(6, 4), index=dates, columns=list('ABCD'))\n",
    "print(df0)\n",
    "\n",
    "df0.sort_values(by='B',ascending=False)"
   ]
  },
  {
   "cell_type": "code",
   "execution_count": null,
   "id": "612a2b83",
   "metadata": {},
   "outputs": [],
   "source": []
  },
  {
   "cell_type": "markdown",
   "id": "e26679eb",
   "metadata": {},
   "source": [
    "# 三、dataframe 切片操作"
   ]
  },
  {
   "cell_type": "markdown",
   "id": "78d1e770",
   "metadata": {},
   "source": [
    "### df['A']   --取出 dataframe 的某一列（低效操作）\n",
    "    取出来的实际上是一个 series"
   ]
  },
  {
   "cell_type": "code",
   "execution_count": 33,
   "id": "719156af",
   "metadata": {},
   "outputs": [
    {
     "name": "stdout",
     "output_type": "stream",
     "text": [
      "                   A         B         C         D\n",
      "2013-01-01  0.132531  0.245954 -1.205744 -0.622499\n",
      "2013-01-02 -2.305284  0.324991 -1.205781 -0.054940\n",
      "2013-01-03  0.146037  1.110284  0.186335  1.244450\n",
      "2013-01-04  0.745190  0.317396  2.094291 -0.672719\n",
      "2013-01-05 -0.183136 -1.313991 -0.516262 -0.391085\n",
      "2013-01-06 -0.618196  0.608470 -0.284352  0.646859\n",
      "----------------------------------------------------------------------------------------------------\n",
      "2013-01-01    0.132531\n",
      "2013-01-02   -2.305284\n",
      "2013-01-03    0.146037\n",
      "2013-01-04    0.745190\n",
      "2013-01-05   -0.183136\n",
      "2013-01-06   -0.618196\n",
      "Freq: D, Name: A, dtype: float64\n",
      "----------------------------------------------------------------------------------------------------\n",
      "<class 'pandas.core.series.Series'>\n"
     ]
    }
   ],
   "source": [
    "import numpy as np\n",
    "import pandas as pd\n",
    "\n",
    "dates = pd.date_range('20130101', periods=6)\n",
    "df0 = pd.DataFrame(np.random.randn(6, 4), index=dates, columns=list('ABCD'))\n",
    "print(df0)\n",
    "print('-'*100)\n",
    "print(df0['A'])\n",
    "print('-'*100)\n",
    "print(type(df0['A']))"
   ]
  },
  {
   "cell_type": "markdown",
   "id": "5ace82b7",
   "metadata": {},
   "source": [
    "### df[0:2] 或者 df['2013-01-02':'2013-01-03']    --取多行（低效操作）"
   ]
  },
  {
   "cell_type": "code",
   "execution_count": 36,
   "id": "176f12ac",
   "metadata": {},
   "outputs": [
    {
     "name": "stdout",
     "output_type": "stream",
     "text": [
      "                   A         B         C         D\n",
      "2013-01-01 -0.071459  0.251407  0.901812 -2.357562\n",
      "2013-01-02  1.154937  0.081614  1.675654  0.597833\n",
      "2013-01-03 -0.705763 -2.358556 -0.115746  1.142385\n",
      "2013-01-04 -1.923827 -0.065123  0.912766  0.716484\n",
      "2013-01-05  0.147452 -1.864341 -0.653180  2.817402\n",
      "2013-01-06  1.547890 -0.258848 -0.050319 -1.097665\n",
      "----------------------------------------------------------------------------------------------------\n",
      "                   A         B         C         D\n",
      "2013-01-01 -0.071459  0.251407  0.901812 -2.357562\n",
      "2013-01-02  1.154937  0.081614  1.675654  0.597833\n",
      "----------------------------------------------------------------------------------------------------\n",
      "                   A         B         C         D\n",
      "2013-01-02  1.154937  0.081614  1.675654  0.597833\n",
      "2013-01-03 -0.705763 -2.358556 -0.115746  1.142385\n"
     ]
    }
   ],
   "source": [
    "import numpy as np\n",
    "import pandas as pd\n",
    "\n",
    "dates = pd.date_range('20130101', periods=6)\n",
    "df0 = pd.DataFrame(np.random.randn(6, 4), index=dates, columns=list('ABCD'))\n",
    "print(df0)\n",
    "print('-'*100)\n",
    "\n",
    "print(df0[0:2])\n",
    "print('-'*100)\n",
    "\n",
    "print(df0['2013-01-02':'2013-01-03'])"
   ]
  },
  {
   "cell_type": "markdown",
   "id": "f7c9bcfa",
   "metadata": {},
   "source": [
    "## 按名称切片"
   ]
  },
  {
   "cell_type": "markdown",
   "id": "a1b3cdfb",
   "metadata": {},
   "source": [
    "### df.loc[行名,:]  --取某一行（高效操作）\n",
    "    官方建议使用接口  df.loc[行名] 和 df.iloc[行索引] 来对date=aframe进行切片操作\n",
    "    这里的 逗号冒号 可以省略，默认在前面的是行名称，所以省略了还是会取行\n",
    "    行名不加中括号取出来的是个 series\n",
    "    行名加中括号取出来的是个 dataframe"
   ]
  },
  {
   "cell_type": "code",
   "execution_count": 54,
   "id": "8f97dbe9",
   "metadata": {},
   "outputs": [
    {
     "name": "stdout",
     "output_type": "stream",
     "text": [
      "                   A         B         C         D\n",
      "2013-01-01 -0.135709 -1.705960 -0.845981  1.039374\n",
      "2013-01-02 -1.143271 -0.650422  0.838769 -2.192423\n",
      "2013-01-03  0.586206 -0.230677  0.406886 -1.188958\n",
      "2013-01-04  0.843204  0.012989 -0.035406  1.358295\n",
      "2013-01-05 -0.846658 -0.262271  0.237258  1.205316\n",
      "2013-01-06 -0.702773  0.363897 -1.789128 -1.254599\n",
      "----------------------------------------------------------------------------------------------------\n",
      "2013-01-01 00:00:00\n",
      "----------------------------------------------------------------------------------------------------\n",
      "A   -0.135709\n",
      "B   -1.705960\n",
      "C   -0.845981\n",
      "D    1.039374\n",
      "Name: 2013-01-01 00:00:00, dtype: float64\n",
      "----------------------------------------------------------------------------------------------------\n",
      "<class 'pandas.core.series.Series'>\n",
      "----------------------------------------------------------------------------------------------------\n",
      "                   A        B         C         D\n",
      "2013-01-01 -0.135709 -1.70596 -0.845981  1.039374\n",
      "----------------------------------------------------------------------------------------------------\n",
      "<class 'pandas.core.frame.DataFrame'>\n"
     ]
    }
   ],
   "source": [
    "import numpy as np\n",
    "import pandas as pd\n",
    "\n",
    "dates = pd.date_range('20130101', periods=6)\n",
    "df0 = pd.DataFrame(np.random.randn(6, 4), index=dates, columns=list('ABCD'))\n",
    "print(df0)\n",
    "print('-'*100)\n",
    "\n",
    "print(dates[0])\n",
    "print('-'*100)\n",
    "print(df0.loc[dates[0],:])  # 行名不加中括号取出来的是个 series\n",
    "print('-'*100)\n",
    "print(type(df0.loc[dates[0]]))  \n",
    "print('-'*100)\n",
    "\n",
    "print(df0.loc[[dates[0]],:])  # 行名加中括号取出来的是个 dataframe\n",
    "print('-'*100)\n",
    "print(type(df0.loc[[dates[0]]]))  "
   ]
  },
  {
   "cell_type": "markdown",
   "id": "5ecc4e93",
   "metadata": {},
   "source": [
    "### df.loc[:,'列名']  --取某一列（高效操作）\n",
    "    这里的 冒号逗号  不能省略，因为默认在冒号前面的是名称，没有找到这个名称的行的话是会报错的\n",
    "    列名不加中括号取出的是个 series\n",
    "    列名加上中括号取出的是个 dataframe "
   ]
  },
  {
   "cell_type": "code",
   "execution_count": 56,
   "id": "4bba8db9",
   "metadata": {},
   "outputs": [
    {
     "name": "stdout",
     "output_type": "stream",
     "text": [
      "                   A         B         C         D\n",
      "2013-01-01  0.630961  0.630080 -1.158012  0.034270\n",
      "2013-01-02 -0.230328 -1.224489 -1.626234 -1.938048\n",
      "2013-01-03  0.737457 -0.261870 -0.509139  2.069199\n",
      "2013-01-04  0.427990 -0.296708  1.142743 -1.993428\n",
      "2013-01-05  1.272231  0.203746  0.744320 -0.489820\n",
      "2013-01-06  0.392122 -0.701959  0.557734  0.329911\n",
      "----------------------------------------------------------------------------------------------------\n",
      "2013-01-01    0.630961\n",
      "2013-01-02   -0.230328\n",
      "2013-01-03    0.737457\n",
      "2013-01-04    0.427990\n",
      "2013-01-05    1.272231\n",
      "2013-01-06    0.392122\n",
      "Freq: D, Name: A, dtype: float64\n",
      "----------------------------------------------------------------------------------------------------\n",
      "<class 'pandas.core.series.Series'>\n",
      "----------------------------------------------------------------------------------------------------\n",
      "                   A\n",
      "2013-01-01  0.630961\n",
      "2013-01-02 -0.230328\n",
      "2013-01-03  0.737457\n",
      "2013-01-04  0.427990\n",
      "2013-01-05  1.272231\n",
      "2013-01-06  0.392122\n",
      "----------------------------------------------------------------------------------------------------\n",
      "<class 'pandas.core.frame.DataFrame'>\n"
     ]
    }
   ],
   "source": [
    "import numpy as np\n",
    "import pandas as pd\n",
    "\n",
    "dates = pd.date_range('20130101', periods=6)\n",
    "df0 = pd.DataFrame(np.random.randn(6, 4), index=dates, columns=list('ABCD'))\n",
    "print(df0)\n",
    "print('-'*100)\n",
    "print(df0.loc[:,'A'])\n",
    "print('-'*100)\n",
    "print(type(df0.loc[:,'A']))   # 列名不加中括号取出的是个 series\n",
    "print('-'*100)\n",
    "print(df0.loc[:,['A']])\n",
    "print('-'*100)\n",
    "print(type(df0.loc[:,['A']]))  # 列名加上中括号取出的是个 dataframe "
   ]
  },
  {
   "cell_type": "markdown",
   "id": "6a420128",
   "metadata": {},
   "source": [
    "### df.loc[[行名1,行名2],:]  --取多行（高效操作）\n",
    "    取出来的是个 dataframe  (加了方括号不管你取的是一行还是多行那都是个 dataframe )"
   ]
  },
  {
   "cell_type": "code",
   "execution_count": 60,
   "id": "02e160f7",
   "metadata": {},
   "outputs": [
    {
     "name": "stdout",
     "output_type": "stream",
     "text": [
      "                   A         B         C         D\n",
      "2013-01-01  1.470184  0.365595  0.945021  2.002743\n",
      "2013-01-02  0.989696  0.033811  1.785406  0.659314\n",
      "2013-01-03  0.102103 -0.277981  2.536610 -0.800135\n",
      "2013-01-04  0.039519 -0.315392  0.316263 -1.498351\n",
      "2013-01-05  0.646819  1.048602 -2.153903  0.074779\n",
      "2013-01-06  0.280738  0.261861 -0.748035  0.302171\n",
      "----------------------------------------------------------------------------------------------------\n",
      "                   A         B         C         D\n",
      "2013-01-01  1.470184  0.365595  0.945021  2.002743\n",
      "2013-01-02  0.989696  0.033811  1.785406  0.659314\n",
      "----------------------------------------------------------------------------------------------------\n",
      "<class 'pandas.core.frame.DataFrame'>\n"
     ]
    }
   ],
   "source": [
    "import numpy as np\n",
    "import pandas as pd\n",
    "\n",
    "dates = pd.date_range('20130101', periods=6)\n",
    "df0 = pd.DataFrame(np.random.randn(6, 4), index=dates, columns=list('ABCD'))\n",
    "print(df0)\n",
    "\n",
    "print('-'*100)\n",
    "print(df0.loc[[dates[0],dates[1]]])\n",
    "print('-'*100)\n",
    "print(type(df0.loc[[dates[0],dates[1]]]))"
   ]
  },
  {
   "cell_type": "markdown",
   "id": "6cca7357",
   "metadata": {},
   "source": [
    "### df.loc[:,[列名1,列名2]]  --取多列（高效操作）\n",
    "    取出来的是个 dataframe  (加了方括号不管你取的是一列还是多列那都是个 dataframe )"
   ]
  },
  {
   "cell_type": "code",
   "execution_count": 62,
   "id": "af2dc788",
   "metadata": {},
   "outputs": [
    {
     "name": "stdout",
     "output_type": "stream",
     "text": [
      "                   A         B         C         D\n",
      "2013-01-01  1.814086 -1.780685 -2.496959 -0.271276\n",
      "2013-01-02 -0.676508  0.727801 -0.801550  1.363852\n",
      "2013-01-03  0.798837 -0.252750 -0.278951 -0.387261\n",
      "2013-01-04  0.389123  0.239706 -0.510377 -0.350032\n",
      "2013-01-05  1.580759  0.306273 -0.411083 -1.383349\n",
      "2013-01-06 -0.022612  0.291651 -0.294576  0.413380\n",
      "----------------------------------------------------------------------------------------------------\n",
      "                   A         B\n",
      "2013-01-01  1.814086 -1.780685\n",
      "2013-01-02 -0.676508  0.727801\n",
      "2013-01-03  0.798837 -0.252750\n",
      "2013-01-04  0.389123  0.239706\n",
      "2013-01-05  1.580759  0.306273\n",
      "2013-01-06 -0.022612  0.291651\n",
      "----------------------------------------------------------------------------------------------------\n",
      "<class 'pandas.core.frame.DataFrame'>\n"
     ]
    }
   ],
   "source": [
    "import numpy as np\n",
    "import pandas as pd\n",
    "\n",
    "dates = pd.date_range('20130101', periods=6)\n",
    "df0 = pd.DataFrame(np.random.randn(6, 4), index=dates, columns=list('ABCD'))\n",
    "print(df0)\n",
    "\n",
    "print('-'*100)\n",
    "print(df0.loc[:,['A','B']])\n",
    "print('-'*100)\n",
    "print(type(df0.loc[:,['A','B']]))"
   ]
  },
  {
   "cell_type": "markdown",
   "id": "05e5a7e4",
   "metadata": {},
   "source": [
    "### df.loc[[行名1,行名2],[列名1,列名2]]  --交叉取多行多列（高效操作）\n",
    "    取出的是个 dataframe"
   ]
  },
  {
   "cell_type": "code",
   "execution_count": 64,
   "id": "1332b2d2",
   "metadata": {},
   "outputs": [
    {
     "name": "stdout",
     "output_type": "stream",
     "text": [
      "                   A         B         C         D\n",
      "2013-01-01 -0.214544  0.558106 -0.854066 -0.688343\n",
      "2013-01-02 -0.484591 -0.439894  1.374978  0.495634\n",
      "2013-01-03 -0.378599  0.539846  1.010986  0.749799\n",
      "2013-01-04 -0.940003 -0.076025 -1.833362  0.305799\n",
      "2013-01-05  0.832492  1.997536  0.252158  0.144199\n",
      "2013-01-06 -1.415790  0.284447 -0.598799 -0.780740\n",
      "----------------------------------------------------------------------------------------------------\n",
      "                   A         B\n",
      "2013-01-01 -0.214544  0.558106\n",
      "2013-01-02 -0.484591 -0.439894\n",
      "----------------------------------------------------------------------------------------------------\n",
      "<class 'pandas.core.frame.DataFrame'>\n"
     ]
    }
   ],
   "source": [
    "import numpy as np\n",
    "import pandas as pd\n",
    "\n",
    "dates = pd.date_range('20130101', periods=6)\n",
    "df0 = pd.DataFrame(np.random.randn(6, 4), index=dates, columns=list('ABCD'))\n",
    "print(df0)\n",
    "\n",
    "print('-'*100)\n",
    "print(df0.loc[[dates[0],dates[1]],['A','B']])\n",
    "print('-'*100)\n",
    "print(type(df0.loc[[dates[0],dates[1]],['A','B']]))"
   ]
  },
  {
   "cell_type": "markdown",
   "id": "08a8db52",
   "metadata": {},
   "source": [
    "## 按索引号切片"
   ]
  },
  {
   "cell_type": "markdown",
   "id": "7b1dfd7a",
   "metadata": {},
   "source": [
    "## df.iloc[[1,2,3],[1,2]]  --按索引号取多行多列\n",
    "    iloc[]  所有规则 同loc[] \n",
    "    只不过是把行或列的名称换成了索引号\n",
    "    索引号为负数表示倒数的行或列\n",
    "    \n",
    "    df0.iloc[1:4 , [1,2]]\n",
    "    多行多列，不加中括号可以取连续多行或多列，加中括号取的是离散的行或列，取出的是个dataframe"
   ]
  },
  {
   "cell_type": "code",
   "execution_count": 74,
   "id": "e1069ea7",
   "metadata": {},
   "outputs": [
    {
     "name": "stdout",
     "output_type": "stream",
     "text": [
      "                   A         B         C         D\n",
      "2013-01-01 -1.168926  0.930677  1.300412  0.373864\n",
      "2013-01-02 -0.906023 -0.565036 -0.943075  0.414007\n",
      "2013-01-03  0.400813  0.771535  1.785444 -1.277090\n",
      "2013-01-04 -0.352850  0.338074  0.174199  1.557099\n",
      "2013-01-05  0.493707 -0.079013  0.087655  0.719996\n",
      "2013-01-06  2.959484 -0.153127  0.631416  0.118081\n",
      "----------------------------------------------------------------------------------------------------\n",
      "2013-01-01    0.930677\n",
      "2013-01-02   -0.565036\n",
      "2013-01-03    0.771535\n",
      "2013-01-04    0.338074\n",
      "2013-01-05   -0.079013\n",
      "2013-01-06   -0.153127\n",
      "Freq: D, Name: B, dtype: float64\n",
      "----------------------------------------------------------------------------------------------------\n",
      "<class 'pandas.core.series.Series'>\n",
      "----------------------------------------------------------------------------------------------------\n",
      "                   B         C\n",
      "2013-01-02 -0.565036 -0.943075\n",
      "2013-01-03  0.771535  1.785444\n",
      "2013-01-04  0.338074  0.174199\n",
      "----------------------------------------------------------------------------------------------------\n",
      "<class 'pandas.core.frame.DataFrame'>\n"
     ]
    }
   ],
   "source": [
    "import numpy as np\n",
    "import pandas as pd\n",
    "\n",
    "dates = pd.date_range('20130101', periods=6)\n",
    "df0 = pd.DataFrame(np.random.randn(6, 4), index=dates, columns=list('ABCD'))\n",
    "print(df0)\n",
    "\n",
    "print('-'*100)\n",
    "print(df0.iloc[:,1])  # 不加中括号取出来的依旧是series\n",
    "print('-'*100)\n",
    "print(type(df0.iloc[:,1]))\n",
    "\n",
    "print('-'*100)\n",
    "print(df0.iloc[1:4,[1,2]])  # 多行多列，不加中括号可以取连续多行或多列，加中括号取得是离散的行或列，取出的是个dataframe\n",
    "print('-'*100)\n",
    "print(type(df0.iloc[1:4,[1,2]])) "
   ]
  },
  {
   "cell_type": "markdown",
   "id": "c51b10ff",
   "metadata": {},
   "source": [
    "# 四、dataframe查询（逻辑表达式切片） "
   ]
  },
  {
   "cell_type": "code",
   "execution_count": 85,
   "id": "2da1e782",
   "metadata": {},
   "outputs": [
    {
     "name": "stdout",
     "output_type": "stream",
     "text": [
      "                   A         B         C         D\n",
      "2013-01-01 -1.752013 -0.525353 -0.286629  0.329884\n",
      "2013-01-02  0.078081 -0.192581  0.047636 -0.153477\n",
      "2013-01-03  0.635206 -0.897908 -0.038486  0.212138\n",
      "2013-01-04 -0.596290 -2.032663 -0.083706  0.821557\n",
      "2013-01-05  0.505822  0.306071  0.324495  0.945084\n",
      "2013-01-06  0.142119 -1.921251 -0.167442 -0.248869\n",
      "----------------------------------------------------------------------------------------------------\n",
      "                   A         B         C         D\n",
      "2013-01-02  0.078081 -0.192581  0.047636 -0.153477\n",
      "2013-01-03  0.635206 -0.897908 -0.038486  0.212138\n",
      "2013-01-05  0.505822  0.306071  0.324495  0.945084\n",
      "2013-01-06  0.142119 -1.921251 -0.167442 -0.248869\n",
      "----------------------------------------------------------------------------------------------------\n",
      "                   A         B         C         D\n",
      "2013-01-01       NaN       NaN       NaN  0.329884\n",
      "2013-01-02  0.078081       NaN  0.047636       NaN\n",
      "2013-01-03  0.635206       NaN       NaN  0.212138\n",
      "2013-01-04       NaN       NaN       NaN  0.821557\n",
      "2013-01-05  0.505822  0.306071  0.324495  0.945084\n",
      "2013-01-06  0.142119       NaN       NaN       NaN\n",
      "----------------------------------------------------------------------------------------------------\n",
      "True\n"
     ]
    }
   ],
   "source": [
    "import numpy as np\n",
    "import pandas as pd\n",
    "\n",
    "dates = pd.date_range('20130101', periods=6)\n",
    "df0 = pd.DataFrame(np.random.randn(6, 4), index=dates, columns=list('ABCD'))\n",
    "print(df0)\n",
    "print('-'*100)\n",
    "\n",
    "print(df0[df0.A > 0])  # A列 大于0 的所有行\n",
    "print('-'*100)\n",
    "\n",
    "df1=df0[df0>0]  # 将所有小于 0 的元素变成 nan\n",
    "print(df1)\n",
    "print('-'*100)\n",
    "\n",
    "print(np.isnan(df1.iloc[0,0]))  # 通过  iloc[]  取得dataframe 中某一位置的元素"
   ]
  },
  {
   "cell_type": "markdown",
   "id": "9f27a70f",
   "metadata": {},
   "source": [
    "## df.[df[列名].isin([列名1,,列名2])] --查询某一列中值是 列名1或列名2的所有行"
   ]
  },
  {
   "cell_type": "code",
   "execution_count": 88,
   "id": "2c2a2d59",
   "metadata": {},
   "outputs": [
    {
     "name": "stdout",
     "output_type": "stream",
     "text": [
      "                   A         B         C         D\n",
      "2013-01-01 -0.290794 -1.100053  0.294160 -1.757129\n",
      "2013-01-02  0.183543  1.979457 -0.360440  0.588383\n",
      "2013-01-03  0.360131 -0.110491 -0.819472 -0.956627\n",
      "2013-01-04  0.107992  0.836623 -0.703046  0.740889\n",
      "2013-01-05  0.401696  1.272947  0.104667  0.928215\n",
      "2013-01-06 -2.898942  1.618438 -1.003075 -0.938528\n",
      "----------------------------------------------------------------------------------------------------\n",
      "                   A         B         C         D      E\n",
      "2013-01-01 -0.290794 -1.100053  0.294160 -1.757129    one\n",
      "2013-01-02  0.183543  1.979457 -0.360440  0.588383    one\n",
      "2013-01-03  0.360131 -0.110491 -0.819472 -0.956627    two\n",
      "2013-01-04  0.107992  0.836623 -0.703046  0.740889  three\n",
      "2013-01-05  0.401696  1.272947  0.104667  0.928215   four\n",
      "2013-01-06 -2.898942  1.618438 -1.003075 -0.938528  three\n",
      "----------------------------------------------------------------------------------------------------\n",
      "                   A         B         C         D     E\n",
      "2013-01-03  0.360131 -0.110491 -0.819472 -0.956627   two\n",
      "2013-01-05  0.401696  1.272947  0.104667  0.928215  four\n"
     ]
    }
   ],
   "source": [
    "import numpy as np\n",
    "import pandas as pd\n",
    "\n",
    "dates = pd.date_range('20130101', periods=6)\n",
    "df0 = pd.DataFrame(np.random.randn(6, 4), index=dates, columns=list('ABCD'))\n",
    "print(df0)\n",
    "print('-'*100)\n",
    "\n",
    "df2 = df0.copy()\n",
    "df2['E'] = ['one', 'one', 'two', 'three', 'four', 'three']  # 新增 E 列\n",
    "print(df2)\n",
    "print('-'*100)\n",
    "\n",
    "print(df2[df2['E'].isin(['two', 'four'])])  # 查询 E 列中值为 two 或 four 的所有行"
   ]
  },
  {
   "cell_type": "markdown",
   "id": "45fcc957",
   "metadata": {},
   "source": [
    "# 五、dataframe新增"
   ]
  },
  {
   "cell_type": "markdown",
   "id": "044720e2",
   "metadata": {},
   "source": [
    "## df2['E'] = ['one', 'one', 'two', 'three', 'four', 'three']  --新增给定列"
   ]
  },
  {
   "cell_type": "code",
   "execution_count": 86,
   "id": "c57e05ff",
   "metadata": {},
   "outputs": [
    {
     "name": "stdout",
     "output_type": "stream",
     "text": [
      "                   A         B         C         D\n",
      "2013-01-01  1.890296  1.026070  0.473312  0.760555\n",
      "2013-01-02  2.698171 -1.860002  1.672689  1.420873\n",
      "2013-01-03 -0.237919 -1.929153  2.490269 -2.334112\n",
      "2013-01-04  2.239951 -1.090828 -0.270877  1.285071\n",
      "2013-01-05 -0.939698  0.345714  1.211569  0.577510\n",
      "2013-01-06  0.195827  0.046298  0.627182 -0.212920\n",
      "----------------------------------------------------------------------------------------------------\n",
      "                   A         B         C         D      E\n",
      "2013-01-01  1.890296  1.026070  0.473312  0.760555    one\n",
      "2013-01-02  2.698171 -1.860002  1.672689  1.420873    one\n",
      "2013-01-03 -0.237919 -1.929153  2.490269 -2.334112    two\n",
      "2013-01-04  2.239951 -1.090828 -0.270877  1.285071  three\n",
      "2013-01-05 -0.939698  0.345714  1.211569  0.577510   four\n",
      "2013-01-06  0.195827  0.046298  0.627182 -0.212920  three\n"
     ]
    }
   ],
   "source": [
    "import numpy as np\n",
    "import pandas as pd\n",
    "\n",
    "dates = pd.date_range('20130101', periods=6)\n",
    "df0 = pd.DataFrame(np.random.randn(6, 4), index=dates, columns=list('ABCD'))\n",
    "print(df0)\n",
    "print('-'*100)\n",
    "\n",
    "df2 = df0.copy()\n",
    "df2['E'] = ['one', 'one', 'two', 'three', 'four', 'three']  # 新增 E 列\n",
    "print(df2)"
   ]
  },
  {
   "cell_type": "markdown",
   "id": "49a5a139",
   "metadata": {},
   "source": [
    "## df0['F'] = series1 --将已有的 series 作为新增列插入，对不上的位置默认填 nan 或直接剔除\n",
    "    数据对不上的话，空的位置填nan,多的数据直接剔除\n",
    "    这个特性可以合并两份excel的数据，算出其中一份数据在另一份数据中的占有率\n",
    "    比如一家超市，excel1统计了有多少人经过这家超市，excel2统计了有多少人进入了这家超市\n",
    "    那就可以将excel2 的数据插入到excel1 当中，和excel1 的经过人数对应，没对上的填nan\n",
    "    nan 就说明这个人经过超市但是没进超市，这就可以根据行数和nan的个数算出这家超市的  进店率"
   ]
  },
  {
   "cell_type": "code",
   "execution_count": 92,
   "id": "5b91bcd0",
   "metadata": {},
   "outputs": [
    {
     "name": "stdout",
     "output_type": "stream",
     "text": [
      "                   A         B         C         D\n",
      "2013-01-01 -0.269848 -1.242226  1.023973  1.678479\n",
      "2013-01-02 -2.078700  0.310801  1.810445  1.470436\n",
      "2013-01-03 -1.720801 -1.002746  0.802447  1.121272\n",
      "2013-01-04 -1.504091 -0.308191 -0.861101  0.234215\n",
      "2013-01-05 -1.861461 -0.398806 -1.271416  1.235647\n",
      "2013-01-06 -1.057030 -0.772053  0.432516 -1.062355\n",
      "----------------------------------------------------------------------------------------------------\n",
      "2013-01-02    1\n",
      "2013-01-03    2\n",
      "2013-01-04    3\n",
      "2013-01-05    4\n",
      "2013-01-06    5\n",
      "2013-01-07    6\n",
      "Freq: D, dtype: int64\n",
      "----------------------------------------------------------------------------------------------------\n",
      "                   A         B         C         D    F\n",
      "2013-01-01 -0.269848 -1.242226  1.023973  1.678479  NaN\n",
      "2013-01-02 -2.078700  0.310801  1.810445  1.470436  1.0\n",
      "2013-01-03 -1.720801 -1.002746  0.802447  1.121272  2.0\n",
      "2013-01-04 -1.504091 -0.308191 -0.861101  0.234215  3.0\n",
      "2013-01-05 -1.861461 -0.398806 -1.271416  1.235647  4.0\n",
      "2013-01-06 -1.057030 -0.772053  0.432516 -1.062355  5.0\n"
     ]
    }
   ],
   "source": [
    "import numpy as np\n",
    "import pandas as pd\n",
    "\n",
    "dates = pd.date_range('20130101', periods=6)\n",
    "df0 = pd.DataFrame(np.random.randn(6, 4), index=dates, columns=list('ABCD'))\n",
    "print(df0)\n",
    "print('-'*100)\n",
    "\n",
    "series1 = pd.Series([1, 2, 3, 4, 5, 6], index=pd.date_range('20130102', periods=6)) # 因为这里的series是从20130102开始的，有些数据对不上\n",
    "print(series1)\n",
    "print('-'*100)\n",
    "\n",
    "df0['F'] = series1  # 将已有的 series 作为新增列插入，数据对不上的位置默认填 nan 或直接剔除\n",
    "print(df0)"
   ]
  },
  {
   "cell_type": "markdown",
   "id": "63e2937d",
   "metadata": {},
   "source": [
    "# 六、dataframe 修改"
   ]
  },
  {
   "cell_type": "markdown",
   "id": "9ecc7c4d",
   "metadata": {},
   "source": [
    "## df1[df1<0] = -df1  --将dataframe 中所有小于零的数变成正数(高效批量操作)\n",
    "    df1[df1<0] = -df1\n",
    "    nan的地方不会被赋值，而且df1[df1<0] 只是临时改变dataframe元素，但是赋值操作会永久改变元素\n",
    "    可以理解为：当df1中元素小于0的时候才会进行赋值操作"
   ]
  },
  {
   "cell_type": "code",
   "execution_count": 97,
   "id": "902850b5",
   "metadata": {},
   "outputs": [
    {
     "name": "stdout",
     "output_type": "stream",
     "text": [
      "                   A         B         C         D\n",
      "2013-01-01  0.130835  0.001191  0.554576 -0.059661\n",
      "2013-01-02  0.481272 -0.119066 -1.350301  0.352753\n",
      "2013-01-03  0.054332 -1.110093 -0.692871 -0.981582\n",
      "2013-01-04  1.351754  0.639099  1.314911 -0.414209\n",
      "2013-01-05  0.221277  0.148516 -1.302810 -0.807810\n",
      "2013-01-06  0.054217 -1.294429  0.288772  0.696034\n",
      "----------------------------------------------------------------------------------------------------\n",
      "             A         B         C         D\n",
      "2013-01-01 NaN       NaN       NaN -0.059661\n",
      "2013-01-02 NaN -0.119066 -1.350301       NaN\n",
      "2013-01-03 NaN -1.110093 -0.692871 -0.981582\n",
      "2013-01-04 NaN       NaN       NaN -0.414209\n",
      "2013-01-05 NaN       NaN -1.302810 -0.807810\n",
      "2013-01-06 NaN -1.294429       NaN       NaN\n",
      "----------------------------------------------------------------------------------------------------\n",
      "                   A         B         C         D\n",
      "2013-01-01 -0.130835 -0.001191 -0.554576  0.059661\n",
      "2013-01-02 -0.481272  0.119066  1.350301 -0.352753\n",
      "2013-01-03 -0.054332  1.110093  0.692871  0.981582\n",
      "2013-01-04 -1.351754 -0.639099 -1.314911  0.414209\n",
      "2013-01-05 -0.221277 -0.148516  1.302810  0.807810\n",
      "2013-01-06 -0.054217  1.294429 -0.288772 -0.696034\n",
      "----------------------------------------------------------------------------------------------------\n",
      "                   A         B         C         D\n",
      "2013-01-01  0.130835  0.001191  0.554576  0.059661\n",
      "2013-01-02  0.481272  0.119066  1.350301  0.352753\n",
      "2013-01-03  0.054332  1.110093  0.692871  0.981582\n",
      "2013-01-04  1.351754  0.639099  1.314911  0.414209\n",
      "2013-01-05  0.221277  0.148516  1.302810  0.807810\n",
      "2013-01-06  0.054217  1.294429  0.288772  0.696034\n"
     ]
    }
   ],
   "source": [
    "import numpy as np\n",
    "import pandas as pd\n",
    "\n",
    "dates = pd.date_range('20130101', periods=6)\n",
    "df0 = pd.DataFrame(np.random.randn(6, 4), index=dates, columns=list('ABCD'))\n",
    "print(df0)\n",
    "print('-'*100)\n",
    "\n",
    "df1 = df0.copy()\n",
    "print(df1[df1<0])\n",
    "print('-'*100)\n",
    "\n",
    "print(-df1)\n",
    "print('-'*100)\n",
    "\n",
    "df1[df1<0] = -df1  # 当df1中元素小于0的时候才会进行赋值操作\n",
    "print(df1)"
   ]
  },
  {
   "cell_type": "markdown",
   "id": "14955a49",
   "metadata": {},
   "source": [
    "## df.reindex()  --修改索引生成新dataframe（删除或新增）\n",
    "    df.reindex(index=dates[1:4], columns=list(df.columns) + ['E'])\n",
    "    只取1、2、3三行，并且新增 E 列（没数据就默认全是nan）"
   ]
  },
  {
   "cell_type": "code",
   "execution_count": 99,
   "id": "a7ba3c4d",
   "metadata": {},
   "outputs": [
    {
     "name": "stdout",
     "output_type": "stream",
     "text": [
      "                   A         B         C         D\n",
      "2013-01-01  1.029907 -0.335818 -0.166857  0.155829\n",
      "2013-01-02  0.468502  0.454715 -0.405717  0.664426\n",
      "2013-01-03  0.228299 -0.282356 -0.326599 -0.462810\n",
      "2013-01-04  0.432148  0.349740  0.387729  1.394491\n",
      "2013-01-05  0.088192 -1.439902  0.391486  0.814626\n",
      "2013-01-06 -0.517801  1.162973  0.003510  0.882494\n",
      "----------------------------------------------------------------------------------------------------\n"
     ]
    },
    {
     "data": {
      "text/html": [
       "<div>\n",
       "<style scoped>\n",
       "    .dataframe tbody tr th:only-of-type {\n",
       "        vertical-align: middle;\n",
       "    }\n",
       "\n",
       "    .dataframe tbody tr th {\n",
       "        vertical-align: top;\n",
       "    }\n",
       "\n",
       "    .dataframe thead th {\n",
       "        text-align: right;\n",
       "    }\n",
       "</style>\n",
       "<table border=\"1\" class=\"dataframe\">\n",
       "  <thead>\n",
       "    <tr style=\"text-align: right;\">\n",
       "      <th></th>\n",
       "      <th>A</th>\n",
       "      <th>B</th>\n",
       "      <th>C</th>\n",
       "      <th>D</th>\n",
       "      <th>E</th>\n",
       "    </tr>\n",
       "  </thead>\n",
       "  <tbody>\n",
       "    <tr>\n",
       "      <th>2013-01-02</th>\n",
       "      <td>0.468502</td>\n",
       "      <td>0.454715</td>\n",
       "      <td>-0.405717</td>\n",
       "      <td>0.664426</td>\n",
       "      <td>NaN</td>\n",
       "    </tr>\n",
       "    <tr>\n",
       "      <th>2013-01-03</th>\n",
       "      <td>0.228299</td>\n",
       "      <td>-0.282356</td>\n",
       "      <td>-0.326599</td>\n",
       "      <td>-0.462810</td>\n",
       "      <td>NaN</td>\n",
       "    </tr>\n",
       "    <tr>\n",
       "      <th>2013-01-04</th>\n",
       "      <td>0.432148</td>\n",
       "      <td>0.349740</td>\n",
       "      <td>0.387729</td>\n",
       "      <td>1.394491</td>\n",
       "      <td>NaN</td>\n",
       "    </tr>\n",
       "  </tbody>\n",
       "</table>\n",
       "</div>"
      ],
      "text/plain": [
       "                   A         B         C         D   E\n",
       "2013-01-02  0.468502  0.454715 -0.405717  0.664426 NaN\n",
       "2013-01-03  0.228299 -0.282356 -0.326599 -0.462810 NaN\n",
       "2013-01-04  0.432148  0.349740  0.387729  1.394491 NaN"
      ]
     },
     "execution_count": 99,
     "metadata": {},
     "output_type": "execute_result"
    }
   ],
   "source": [
    "import numpy as np\n",
    "import pandas as pd\n",
    "\n",
    "dates = pd.date_range('20130101', periods=6)\n",
    "df0 = pd.DataFrame(np.random.randn(6, 4), index=dates, columns=list('ABCD'))\n",
    "print(df0)\n",
    "print('-'*100)\n",
    "\n",
    "df1 = df0.reindex(index=dates[1:4], columns=list(df0.columns) + ['E'])  # 只取1、2、3三行，并且新增 E 列（没数据就默认全是nan）\n",
    "df1"
   ]
  },
  {
   "cell_type": "markdown",
   "id": "7d853e47",
   "metadata": {},
   "source": [
    "## 修改指定位置的元素（切片+赋值）"
   ]
  },
  {
   "cell_type": "code",
   "execution_count": 101,
   "id": "1144836c",
   "metadata": {},
   "outputs": [
    {
     "name": "stdout",
     "output_type": "stream",
     "text": [
      "                   A         B         C         D    E\n",
      "2013-01-02  0.468502  0.454715 -0.405717  0.664426  1.0\n",
      "2013-01-03  0.228299 -0.282356 -0.326599 -0.462810  NaN\n",
      "2013-01-04  0.432148  0.349740  0.387729  1.394491  NaN\n"
     ]
    },
    {
     "data": {
      "text/html": [
       "<div>\n",
       "<style scoped>\n",
       "    .dataframe tbody tr th:only-of-type {\n",
       "        vertical-align: middle;\n",
       "    }\n",
       "\n",
       "    .dataframe tbody tr th {\n",
       "        vertical-align: top;\n",
       "    }\n",
       "\n",
       "    .dataframe thead th {\n",
       "        text-align: right;\n",
       "    }\n",
       "</style>\n",
       "<table border=\"1\" class=\"dataframe\">\n",
       "  <thead>\n",
       "    <tr style=\"text-align: right;\">\n",
       "      <th></th>\n",
       "      <th>A</th>\n",
       "      <th>B</th>\n",
       "      <th>C</th>\n",
       "      <th>D</th>\n",
       "      <th>E</th>\n",
       "    </tr>\n",
       "  </thead>\n",
       "  <tbody>\n",
       "    <tr>\n",
       "      <th>2013-01-02</th>\n",
       "      <td>0.468502</td>\n",
       "      <td>0.454715</td>\n",
       "      <td>-0.405717</td>\n",
       "      <td>0.664426</td>\n",
       "      <td>1.0</td>\n",
       "    </tr>\n",
       "    <tr>\n",
       "      <th>2013-01-03</th>\n",
       "      <td>0.228299</td>\n",
       "      <td>-0.282356</td>\n",
       "      <td>-0.326599</td>\n",
       "      <td>-0.462810</td>\n",
       "      <td>1.0</td>\n",
       "    </tr>\n",
       "    <tr>\n",
       "      <th>2013-01-04</th>\n",
       "      <td>0.432148</td>\n",
       "      <td>0.349740</td>\n",
       "      <td>0.387729</td>\n",
       "      <td>1.394491</td>\n",
       "      <td>NaN</td>\n",
       "    </tr>\n",
       "  </tbody>\n",
       "</table>\n",
       "</div>"
      ],
      "text/plain": [
       "                   A         B         C         D    E\n",
       "2013-01-02  0.468502  0.454715 -0.405717  0.664426  1.0\n",
       "2013-01-03  0.228299 -0.282356 -0.326599 -0.462810  1.0\n",
       "2013-01-04  0.432148  0.349740  0.387729  1.394491  NaN"
      ]
     },
     "execution_count": 101,
     "metadata": {},
     "output_type": "execute_result"
    }
   ],
   "source": [
    "print(df1)\n",
    "df1.loc[dates[0]:dates[2], 'E'] = 1  # E 列的第0行和第1行赋值为1\n",
    "df1"
   ]
  },
  {
   "cell_type": "markdown",
   "id": "2d01ba78",
   "metadata": {},
   "source": [
    "# 七、dataframe 删除及新增"
   ]
  },
  {
   "cell_type": "markdown",
   "id": "3f96f13e",
   "metadata": {},
   "source": [
    "## df.dropna(how='any')  --返回 删除了有空值的行 后的dataframe（不会改变原数组）"
   ]
  },
  {
   "cell_type": "code",
   "execution_count": 105,
   "id": "79c2cff9",
   "metadata": {},
   "outputs": [
    {
     "name": "stdout",
     "output_type": "stream",
     "text": [
      "                   A         B         C         D    E\n",
      "2013-01-02  0.468502  0.454715 -0.405717  0.664426  1.0\n",
      "2013-01-03  0.228299 -0.282356 -0.326599 -0.462810  1.0\n",
      "2013-01-04  0.432148  0.349740  0.387729  1.394491  NaN\n",
      "----------------------------------------------------------------------------------------------------\n",
      "                   A         B         C         D    E\n",
      "2013-01-02  0.468502  0.454715 -0.405717  0.664426  1.0\n",
      "2013-01-03  0.228299 -0.282356 -0.326599 -0.462810  1.0\n"
     ]
    },
    {
     "data": {
      "text/html": [
       "<div>\n",
       "<style scoped>\n",
       "    .dataframe tbody tr th:only-of-type {\n",
       "        vertical-align: middle;\n",
       "    }\n",
       "\n",
       "    .dataframe tbody tr th {\n",
       "        vertical-align: top;\n",
       "    }\n",
       "\n",
       "    .dataframe thead th {\n",
       "        text-align: right;\n",
       "    }\n",
       "</style>\n",
       "<table border=\"1\" class=\"dataframe\">\n",
       "  <thead>\n",
       "    <tr style=\"text-align: right;\">\n",
       "      <th></th>\n",
       "      <th>A</th>\n",
       "      <th>B</th>\n",
       "      <th>C</th>\n",
       "      <th>D</th>\n",
       "      <th>E</th>\n",
       "    </tr>\n",
       "  </thead>\n",
       "  <tbody>\n",
       "    <tr>\n",
       "      <th>2013-01-02</th>\n",
       "      <td>0.468502</td>\n",
       "      <td>0.454715</td>\n",
       "      <td>-0.405717</td>\n",
       "      <td>0.664426</td>\n",
       "      <td>1.0</td>\n",
       "    </tr>\n",
       "    <tr>\n",
       "      <th>2013-01-03</th>\n",
       "      <td>0.228299</td>\n",
       "      <td>-0.282356</td>\n",
       "      <td>-0.326599</td>\n",
       "      <td>-0.462810</td>\n",
       "      <td>1.0</td>\n",
       "    </tr>\n",
       "    <tr>\n",
       "      <th>2013-01-04</th>\n",
       "      <td>0.432148</td>\n",
       "      <td>0.349740</td>\n",
       "      <td>0.387729</td>\n",
       "      <td>1.394491</td>\n",
       "      <td>NaN</td>\n",
       "    </tr>\n",
       "  </tbody>\n",
       "</table>\n",
       "</div>"
      ],
      "text/plain": [
       "                   A         B         C         D    E\n",
       "2013-01-02  0.468502  0.454715 -0.405717  0.664426  1.0\n",
       "2013-01-03  0.228299 -0.282356 -0.326599 -0.462810  1.0\n",
       "2013-01-04  0.432148  0.349740  0.387729  1.394491  NaN"
      ]
     },
     "execution_count": 105,
     "metadata": {},
     "output_type": "execute_result"
    }
   ],
   "source": [
    "print(df1)\n",
    "print('-'*100)\n",
    "print(df1.dropna(how='any'))\n",
    "df1"
   ]
  },
  {
   "cell_type": "markdown",
   "id": "df40a914",
   "metadata": {},
   "source": [
    "## df.fillna(value=5)  --返回 将空值填成5 后的dataframe（不会改变原数组）"
   ]
  },
  {
   "cell_type": "code",
   "execution_count": 108,
   "id": "b382c7d5",
   "metadata": {},
   "outputs": [
    {
     "name": "stdout",
     "output_type": "stream",
     "text": [
      "                   A         B         C         D    E\n",
      "2013-01-02       NaN  0.454715 -0.405717  0.664426  1.0\n",
      "2013-01-03  0.228299 -0.282356 -0.326599 -0.462810  1.0\n",
      "2013-01-04  0.432148  0.349740  0.387729  1.394491  NaN\n",
      "----------------------------------------------------------------------------------------------------\n",
      "                   A         B         C         D    E\n",
      "2013-01-02  5.000000  0.454715 -0.405717  0.664426  1.0\n",
      "2013-01-03  0.228299 -0.282356 -0.326599 -0.462810  1.0\n",
      "2013-01-04  0.432148  0.349740  0.387729  1.394491  5.0\n"
     ]
    },
    {
     "data": {
      "text/html": [
       "<div>\n",
       "<style scoped>\n",
       "    .dataframe tbody tr th:only-of-type {\n",
       "        vertical-align: middle;\n",
       "    }\n",
       "\n",
       "    .dataframe tbody tr th {\n",
       "        vertical-align: top;\n",
       "    }\n",
       "\n",
       "    .dataframe thead th {\n",
       "        text-align: right;\n",
       "    }\n",
       "</style>\n",
       "<table border=\"1\" class=\"dataframe\">\n",
       "  <thead>\n",
       "    <tr style=\"text-align: right;\">\n",
       "      <th></th>\n",
       "      <th>A</th>\n",
       "      <th>B</th>\n",
       "      <th>C</th>\n",
       "      <th>D</th>\n",
       "      <th>E</th>\n",
       "    </tr>\n",
       "  </thead>\n",
       "  <tbody>\n",
       "    <tr>\n",
       "      <th>2013-01-02</th>\n",
       "      <td>NaN</td>\n",
       "      <td>0.454715</td>\n",
       "      <td>-0.405717</td>\n",
       "      <td>0.664426</td>\n",
       "      <td>1.0</td>\n",
       "    </tr>\n",
       "    <tr>\n",
       "      <th>2013-01-03</th>\n",
       "      <td>0.228299</td>\n",
       "      <td>-0.282356</td>\n",
       "      <td>-0.326599</td>\n",
       "      <td>-0.462810</td>\n",
       "      <td>1.0</td>\n",
       "    </tr>\n",
       "    <tr>\n",
       "      <th>2013-01-04</th>\n",
       "      <td>0.432148</td>\n",
       "      <td>0.349740</td>\n",
       "      <td>0.387729</td>\n",
       "      <td>1.394491</td>\n",
       "      <td>NaN</td>\n",
       "    </tr>\n",
       "  </tbody>\n",
       "</table>\n",
       "</div>"
      ],
      "text/plain": [
       "                   A         B         C         D    E\n",
       "2013-01-02       NaN  0.454715 -0.405717  0.664426  1.0\n",
       "2013-01-03  0.228299 -0.282356 -0.326599 -0.462810  1.0\n",
       "2013-01-04  0.432148  0.349740  0.387729  1.394491  NaN"
      ]
     },
     "execution_count": 108,
     "metadata": {},
     "output_type": "execute_result"
    }
   ],
   "source": [
    "df1.iloc[[0],[0]]=np.nan\n",
    "print(df1)\n",
    "print('-'*100)\n",
    "print(df1.fillna(value=5))\n",
    "df1"
   ]
  },
  {
   "cell_type": "markdown",
   "id": "a2fac9b4",
   "metadata": {},
   "source": [
    "# 八、dataframe 各种操作接口\n",
    "## \n",
    "## df.sum()    数据求和,默认是对轴0求和，sum(1)是对轴1求和，返回的是一个 series\n",
    "## df.mean()   数据求平均值,默认是对轴0求和，sum(1)是对轴1求和，返回的是一个 series"
   ]
  },
  {
   "cell_type": "code",
   "execution_count": 118,
   "id": "a9d5f8cc",
   "metadata": {},
   "outputs": [
    {
     "name": "stdout",
     "output_type": "stream",
     "text": [
      "    0   1   2   3\n",
      "0   0   1   2   3\n",
      "1   4   5   6   7\n",
      "2   8   9  10  11\n",
      "3  12  13  14  15\n",
      "4  16  17  18  19\n",
      "5  20  21  22  23\n",
      "----------------------------------------------------------------------------------------------------\n",
      "<class 'pandas.core.series.Series'>\n",
      "0    60\n",
      "1    66\n",
      "2    72\n",
      "3    78\n",
      "dtype: int64\n",
      "----------------------------------------------------------------------------------------------------\n",
      "<class 'pandas.core.series.Series'>\n",
      "0     6\n",
      "1    22\n",
      "2    38\n",
      "3    54\n",
      "4    70\n",
      "5    86\n",
      "dtype: int64\n"
     ]
    }
   ],
   "source": [
    "import numpy as np\n",
    "import pandas as pd\n",
    "\n",
    "df0 = pd.DataFrame(np.arange(24).reshape(6,4))\n",
    "print(df0)\n",
    "print('-'*100)\n",
    "\n",
    "print(type(df0.sum()))\n",
    "print(df0.sum())  # 默认对轴0求和\n",
    "print('-'*100)\n",
    "\n",
    "print(type(df0.sum(1)))\n",
    "print(df0.sum(1))  # 对轴1求和\n"
   ]
  },
  {
   "cell_type": "markdown",
   "id": "93083014",
   "metadata": {},
   "source": [
    "## 滚动"
   ]
  },
  {
   "cell_type": "markdown",
   "id": "ec16f253",
   "metadata": {},
   "source": [
    "## s.shift()  --series索引不动，值往后滚动 ,不改变原series\n",
    "    就是所有数据往后移动指定次数。。溢出的扔掉，空出来的填nan"
   ]
  },
  {
   "cell_type": "code",
   "execution_count": 127,
   "id": "440e0306",
   "metadata": {},
   "outputs": [
    {
     "name": "stdout",
     "output_type": "stream",
     "text": [
      "2021-07-01    1.0\n",
      "2021-07-02    2.0\n",
      "2021-07-03    3.0\n",
      "2021-07-04    NaN\n",
      "2021-07-05    NaN\n",
      "2021-07-06    4.0\n",
      "2021-07-07    5.0\n",
      "Freq: D, dtype: float64\n",
      "----------------------------------------------------------------------------------------------------\n",
      "2021-07-01    NaN\n",
      "2021-07-02    NaN\n",
      "2021-07-03    1.0\n",
      "2021-07-04    2.0\n",
      "2021-07-05    3.0\n",
      "2021-07-06    NaN\n",
      "2021-07-07    NaN\n",
      "Freq: D, dtype: float64\n",
      "----------------------------------------------------------------------------------------------------\n",
      "2021-07-01    1.0\n",
      "2021-07-02    2.0\n",
      "2021-07-03    3.0\n",
      "2021-07-04    NaN\n",
      "2021-07-05    NaN\n",
      "2021-07-06    4.0\n",
      "2021-07-07    5.0\n",
      "Freq: D, dtype: float64\n"
     ]
    }
   ],
   "source": [
    "import numpy as np\n",
    "import pandas as pd\n",
    "\n",
    "dates = pd.date_range('20210701',periods=7)\n",
    "series1 = pd.Series([1,2,3,np.nan,np.nan,4,5],index=dates)\n",
    "print(series1)\n",
    "print('-'*100)\n",
    "\n",
    "print(series1.shift(2))  # series中所有元素往后滚动两个位置，后面溢出的丢掉，前面空出的位置填nan\n",
    "print('-'*100)\n",
    "print(series1)  # 滚动操作不改变原 series"
   ]
  },
  {
   "cell_type": "markdown",
   "id": "877745b8",
   "metadata": {},
   "source": [
    "# dateframe 加减 series\n",
    "## \n",
    "## df0.sub(series1,axis='index')  --datafram减series，按行索引广播\n",
    "    将series里的每个元素作用到datafram和它行索引一致的行上\n",
    "    不改变原数组"
   ]
  },
  {
   "cell_type": "code",
   "execution_count": 8,
   "id": "265487ee",
   "metadata": {},
   "outputs": [
    {
     "name": "stdout",
     "output_type": "stream",
     "text": [
      "2021-07-01    1.0\n",
      "2021-07-02    2.0\n",
      "2021-07-03    3.0\n",
      "2021-07-04    NaN\n",
      "2021-07-05    NaN\n",
      "2021-07-06    4.0\n",
      "2021-07-07    5.0\n",
      "Freq: D, dtype: float64\n",
      "----------------------------------------------------------------------------------------------------\n",
      "             0   1   2   3\n",
      "2021-07-01   0   1   2   3\n",
      "2021-07-02   4   5   6   7\n",
      "2021-07-03   8   9  10  11\n",
      "2021-07-04  12  13  14  15\n",
      "2021-07-05  16  17  18  19\n",
      "2021-07-06  20  21  22  23\n",
      "2021-07-07  24  25  26  27\n",
      "----------------------------------------------------------------------------------------------------\n",
      "               0     1     2     3\n",
      "2021-07-01  -1.0   0.0   1.0   2.0\n",
      "2021-07-02   2.0   3.0   4.0   5.0\n",
      "2021-07-03   5.0   6.0   7.0   8.0\n",
      "2021-07-04   NaN   NaN   NaN   NaN\n",
      "2021-07-05   NaN   NaN   NaN   NaN\n",
      "2021-07-06  16.0  17.0  18.0  19.0\n",
      "2021-07-07  19.0  20.0  21.0  22.0\n",
      "----------------------------------------------------------------------------------------------------\n",
      "             0   1   2   3\n",
      "2021-07-01   0   1   2   3\n",
      "2021-07-02   4   5   6   7\n",
      "2021-07-03   8   9  10  11\n",
      "2021-07-04  12  13  14  15\n",
      "2021-07-05  16  17  18  19\n",
      "2021-07-06  20  21  22  23\n",
      "2021-07-07  24  25  26  27\n"
     ]
    }
   ],
   "source": [
    "import numpy as np\n",
    "import pandas as pd\n",
    "\n",
    "dates = pd.date_range('20210701',periods=7)\n",
    "df0 = pd.DataFrame(np.arange(28).reshape(7,4),index=dates)\n",
    "series1 = pd.Series([1,2,3,np.nan,np.nan,4,5],index=dates)\n",
    "print(series1)\n",
    "print('-'*100)\n",
    "print(df0)\n",
    "print('-'*100)\n",
    "\n",
    "print(df0.sub(series1,axis='index'))\n",
    "print('-'*100)\n",
    "\n",
    "print(df0) # 减法不改变原数组"
   ]
  },
  {
   "cell_type": "markdown",
   "id": "75400820",
   "metadata": {},
   "source": [
    "## df.apply(规则) -- 将规则作用于每个元素后返回新的 dataframe\n",
    "    原数组不会发生改变\n",
    "    np.cumsum 是累计求和规则，默认是按照轴0方向作用该规则，所以数组是每一列从上往下累计求和"
   ]
  },
  {
   "cell_type": "code",
   "execution_count": 13,
   "id": "88cf9c0b",
   "metadata": {},
   "outputs": [
    {
     "name": "stdout",
     "output_type": "stream",
     "text": [
      "             0   1   2   3\n",
      "2021-07-01   0   1   2   3\n",
      "2021-07-02   4   5   6   7\n",
      "2021-07-03   8   9  10  11\n",
      "2021-07-04  12  13  14  15\n",
      "2021-07-05  16  17  18  19\n",
      "2021-07-06  20  21  22  23\n",
      "2021-07-07  24  25  26  27\n",
      "----------------------------------------------------------------------------------------------------\n",
      "<function cumsum at 0x000001ECC8B117B8>\n",
      "----------------------------------------------------------------------------------------------------\n",
      "             0   1   2    3\n",
      "2021-07-01   0   1   2    3\n",
      "2021-07-02   4   6   8   10\n",
      "2021-07-03  12  15  18   21\n",
      "2021-07-04  24  28  32   36\n",
      "2021-07-05  40  45  50   55\n",
      "2021-07-06  60  66  72   78\n",
      "2021-07-07  84  91  98  105\n",
      "----------------------------------------------------------------------------------------------------\n",
      "             0   1   2   3\n",
      "2021-07-01   0   1   2   3\n",
      "2021-07-02   4   5   6   7\n",
      "2021-07-03   8   9  10  11\n",
      "2021-07-04  12  13  14  15\n",
      "2021-07-05  16  17  18  19\n",
      "2021-07-06  20  21  22  23\n",
      "2021-07-07  24  25  26  27\n"
     ]
    }
   ],
   "source": [
    "import numpy as np\n",
    "import pandas as pd\n",
    "\n",
    "dates = pd.date_range('20210701',periods=7)\n",
    "df0 = pd.DataFrame(np.arange(28).reshape(7,4),index=dates)\n",
    "print(df0)\n",
    "print('-'*100)\n",
    "\n",
    "print(np.cumsum)\n",
    "print('-'*100)\n",
    "print(df0.apply(np.cumsum))\n",
    "print('-'*100)\n",
    "print(df0)  # 原数组不会发生改变"
   ]
  },
  {
   "cell_type": "markdown",
   "id": "34c8f2f8",
   "metadata": {},
   "source": [
    "## apply() 还能传正则表达式"
   ]
  },
  {
   "cell_type": "code",
   "execution_count": 16,
   "id": "553ace34",
   "metadata": {},
   "outputs": [
    {
     "name": "stdout",
     "output_type": "stream",
     "text": [
      "             0   1   2   3\n",
      "2021-07-01   0   1   2   3\n",
      "2021-07-02   4   5   6   7\n",
      "2021-07-03   8   9  10  11\n",
      "2021-07-04  12  13  14  15\n",
      "2021-07-05  16  17  18  19\n",
      "2021-07-06  20  21  22  23\n",
      "2021-07-07  24  25  26  27\n",
      "----------------------------------------------------------------------------------------------------\n",
      "0    24\n",
      "1    24\n",
      "2    24\n",
      "3    24\n",
      "dtype: int64\n",
      "----------------------------------------------------------------------------------------------------\n",
      "<class 'pandas.core.series.Series'>\n"
     ]
    }
   ],
   "source": [
    "print(df0)\n",
    "print('-'*100)\n",
    "print(df0.apply(lambda x: x.max()-x.min()))  # 取每一列计算这列的最大值最小值的差，结果存在一个series里\n",
    "print('-'*100)\n",
    "print(type(df0.apply(lambda x: x.max()-x.min())))"
   ]
  },
  {
   "cell_type": "markdown",
   "id": "08d53b7e",
   "metadata": {},
   "source": [
    "## dataframe 切割与合并\n",
    "    剔除dataframe 里面不好的数据  --数据报表造假。。。\n",
    "    \n",
    "### pieces = [df[:3], df[3:7], df[7:]]\n",
    "    切片方式切割dataframe\n",
    "\n",
    "### pd.concat(pieces)\n",
    "    concat 返回合并后的数组\n",
    "    不改变原数组\n",
    "    "
   ]
  },
  {
   "cell_type": "code",
   "execution_count": 28,
   "id": "620e2c66",
   "metadata": {},
   "outputs": [
    {
     "name": "stdout",
     "output_type": "stream",
     "text": [
      "    0   1   2   3\n",
      "0   0   1   2   3\n",
      "1   4   5   6   7\n",
      "2   8   9  10  11\n",
      "3  12  13  14  15\n",
      "4  16  17  18  19\n",
      "5  20  21  22  23\n",
      "6  24  25  26  27\n",
      "7  28  29  30  31\n",
      "8  32  33  34  35\n",
      "9  36  37  38  39\n",
      "----------------------------------------------------------------------------------------------------\n",
      "<class 'list'>\n",
      "----------------------------------------------------------------------------------------------------\n",
      "<class 'pandas.core.frame.DataFrame'>\n",
      "----------------------------------------------------------------------------------------------------\n",
      "   0  1   2   3\n",
      "0  0  1   2   3\n",
      "1  4  5   6   7\n",
      "2  8  9  10  11\n",
      "----------------------------------------------------------------------------------------------------\n",
      "    0   1   2   3\n",
      "3  12  13  14  15\n",
      "4  16  17  18  19\n",
      "5  20  21  22  23\n",
      "6  24  25  26  27\n",
      "----------------------------------------------------------------------------------------------------\n",
      "    0   1   2   3\n",
      "7  28  29  30  31\n",
      "8  32  33  34  35\n",
      "9  36  37  38  39\n",
      "----------------------------------------------------------------------------------------------------\n",
      "    0   1   2   3\n",
      "0   0   1   2   3\n",
      "1   4   5   6   7\n",
      "2   8   9  10  11\n",
      "3  12  13  14  15\n",
      "4  16  17  18  19\n",
      "5  20  21  22  23\n",
      "6  24  25  26  27\n",
      "7  28  29  30  31\n",
      "8  32  33  34  35\n",
      "9  36  37  38  39\n",
      "----------------------------------------------------------------------------------------------------\n",
      "<class 'pandas.core.frame.DataFrame'>\n",
      "----------------------------------------------------------------------------------------------------\n"
     ]
    }
   ],
   "source": [
    "import numpy as np\n",
    "import pandas as pd\n",
    "\n",
    "df = pd.DataFrame(np.arange(40).reshape(10, 4))\n",
    "print(df)\n",
    "print('-'*100)\n",
    "\n",
    "pieces = [df[:3], df[3:7], df[7:]]  # pieces是一个python列表，列表里放了三个dataframe，每个dataframe都是从df切片过来的\n",
    "print(type(pieces))\n",
    "print('-'*100)\n",
    "print(type(pieces[0]))\n",
    "print('-'*100)\n",
    "\n",
    "for i in pieces:   # 循环打印列表中每一个dataframe\n",
    "    print(i)\n",
    "    print('-'*100)\n",
    "    \n",
    "print(pd.concat(pieces))  # concat() 返回pieces合并后的dataframe,不改变pieces\n",
    "print('-'*100)\n",
    "print(type(pd.concat(pieces)))  # 合并后是 dataframe 类型\n",
    "print('-'*100)\n"
   ]
  },
  {
   "cell_type": "markdown",
   "id": "d1dd555a",
   "metadata": {},
   "source": [
    "## pd.merge(left, right, on='key')  --拼接/连接两个dataframe\n",
    "    on = 'key' 表示按照key为外键连接\n",
    "    其他列是拼起来的，相当于mysql里的连接"
   ]
  },
  {
   "cell_type": "code",
   "execution_count": 33,
   "id": "1f1bddaa",
   "metadata": {},
   "outputs": [
    {
     "name": "stdout",
     "output_type": "stream",
     "text": [
      "   key  lval\n",
      "0  foo     1\n",
      "1  foo     2\n",
      "----------------------------------------------------------------------------------------------------\n",
      "   key  rval\n",
      "0  foo     4\n",
      "1  foo     5\n",
      "----------------------------------------------------------------------------------------------------\n"
     ]
    },
    {
     "data": {
      "text/html": [
       "<div>\n",
       "<style scoped>\n",
       "    .dataframe tbody tr th:only-of-type {\n",
       "        vertical-align: middle;\n",
       "    }\n",
       "\n",
       "    .dataframe tbody tr th {\n",
       "        vertical-align: top;\n",
       "    }\n",
       "\n",
       "    .dataframe thead th {\n",
       "        text-align: right;\n",
       "    }\n",
       "</style>\n",
       "<table border=\"1\" class=\"dataframe\">\n",
       "  <thead>\n",
       "    <tr style=\"text-align: right;\">\n",
       "      <th></th>\n",
       "      <th>key</th>\n",
       "      <th>lval</th>\n",
       "      <th>rval</th>\n",
       "    </tr>\n",
       "  </thead>\n",
       "  <tbody>\n",
       "    <tr>\n",
       "      <th>0</th>\n",
       "      <td>foo</td>\n",
       "      <td>1</td>\n",
       "      <td>4</td>\n",
       "    </tr>\n",
       "    <tr>\n",
       "      <th>1</th>\n",
       "      <td>foo</td>\n",
       "      <td>1</td>\n",
       "      <td>5</td>\n",
       "    </tr>\n",
       "    <tr>\n",
       "      <th>2</th>\n",
       "      <td>foo</td>\n",
       "      <td>2</td>\n",
       "      <td>4</td>\n",
       "    </tr>\n",
       "    <tr>\n",
       "      <th>3</th>\n",
       "      <td>foo</td>\n",
       "      <td>2</td>\n",
       "      <td>5</td>\n",
       "    </tr>\n",
       "  </tbody>\n",
       "</table>\n",
       "</div>"
      ],
      "text/plain": [
       "   key  lval  rval\n",
       "0  foo     1     4\n",
       "1  foo     1     5\n",
       "2  foo     2     4\n",
       "3  foo     2     5"
      ]
     },
     "execution_count": 33,
     "metadata": {},
     "output_type": "execute_result"
    }
   ],
   "source": [
    "import numpy as np\n",
    "import pandas as pd\n",
    "\n",
    "left = pd.DataFrame({'key': ['foo', 'foo'], 'lval': [1, 2]})  # 一个键值对 对应一个 列，键是列名，值是元素\n",
    "right = pd.DataFrame({'key': ['foo', 'foo'], 'rval': [4, 5]})\n",
    "print(left)\n",
    "print('-'*100)\n",
    "print(right)\n",
    "print('-'*100)\n",
    "pd.merge(left, right, on='key')"
   ]
  },
  {
   "cell_type": "markdown",
   "id": "c597eb0a",
   "metadata": {},
   "source": [
    "## 九、练习 groupby 分组\n",
    "    df.groupby('A').count()  # 按 A 列里的值分组，计算每组的成员个数作为数值\n",
    "    df.groupby('A').mean()   # 按 A 列里的值分组，计算每组的平均值作为数值，不是数值类型的列是不会计算的"
   ]
  },
  {
   "cell_type": "code",
   "execution_count": 38,
   "id": "1dcb88b1",
   "metadata": {},
   "outputs": [
    {
     "name": "stdout",
     "output_type": "stream",
     "text": [
      "     A      B         C         D\n",
      "0  foo    one -0.568167 -0.882807\n",
      "1  bar    one  0.556500  0.856709\n",
      "2  foo    two  1.043798  0.497281\n",
      "3  bar  three  1.157629  0.424172\n",
      "4  foo    two -1.513606  0.732435\n",
      "5  bar    two  0.606836  0.011425\n",
      "6  foo    one -1.299768 -2.397610\n",
      "7  foo  three  1.070797 -0.223640\n",
      "----------------------------------------------------------------------------------------------------\n",
      "     B  C  D\n",
      "A           \n",
      "bar  3  3  3\n",
      "foo  5  5  5\n",
      "----------------------------------------------------------------------------------------------------\n",
      "            C         D\n",
      "A                      \n",
      "bar  0.773655  0.430769\n",
      "foo -0.253389 -0.454868\n"
     ]
    }
   ],
   "source": [
    "import numpy as np\n",
    "import pandas as pd\n",
    "\n",
    "df = pd.DataFrame({'A': ['foo', 'bar', 'foo', 'bar',\n",
    "                        'foo', 'bar', 'foo', 'foo'],\n",
    "                   'B': ['one', 'one', 'two', 'three',\n",
    "                        'two', 'two', 'one', 'three'],\n",
    "                   'C': np.random.randn(8),\n",
    "                   'D': np.random.randn(8)})\n",
    "print(df)\n",
    "print('-'*100)\n",
    "print(df.groupby('A').count())  # 按 A 列里的值分组，计算每组的成员个数作为数值\n",
    "print('-'*100)\n",
    "print(df.groupby('A').mean())  # 按 A 列里的值分组，计算每组的平均值作为数值（不是数值的列不会显示）"
   ]
  },
  {
   "cell_type": "markdown",
   "id": "12c64594",
   "metadata": {},
   "source": [
    "# 十、练习多级索引（层级索引）"
   ]
  },
  {
   "cell_type": "markdown",
   "id": "99abb090",
   "metadata": {},
   "source": [
    "## zip(*list) 解包生成元组键值对（为多级索引做准备）\n",
    "    将二维列表解包成键值对存放在元组里面，外边再用list() 类型转换\n",
    "    二维元组也是可以的，里边只要是个可迭代对象都是可以解包的\n",
    "    \n",
    "    做成的  元组对  实际上就是为了后面做多级索引的需求做准备"
   ]
  },
  {
   "cell_type": "code",
   "execution_count": 39,
   "id": "27343258",
   "metadata": {},
   "outputs": [
    {
     "data": {
      "text/plain": [
       "[('bar', 'one'),\n",
       " ('bar', 'two'),\n",
       " ('baz', 'one'),\n",
       " ('baz', 'two'),\n",
       " ('foo', 'one'),\n",
       " ('foo', 'two'),\n",
       " ('qux', 'one'),\n",
       " ('qux', 'two')]"
      ]
     },
     "execution_count": 39,
     "metadata": {},
     "output_type": "execute_result"
    }
   ],
   "source": [
    "import numpy as np\n",
    "import pandas as pd\n",
    "\n",
    "# 解压二维列表创建多级索引原始数据  --元组形式的键值对\n",
    "tuples = list(zip(*[['bar', 'bar', 'baz', 'baz',    # zip 解压，完了外边还套了个 list() 进行类型转换\n",
    "                    'foo', 'foo', 'qux', 'qux'],\n",
    "                    ['one', 'two', 'one', 'two',\n",
    "                     'one', 'two', 'one', 'two']]))\n",
    "tuples"
   ]
  },
  {
   "cell_type": "markdown",
   "id": "30dae488",
   "metadata": {},
   "source": [
    "## pd.MultiIndex.from_tuples()  --建立多级行索引/列索引\n",
    "    index = pd.MultiIndex.from_tuples(tuples, names=['first', 'second'])\n",
    "    \n",
    "    tuples 是元组对的列表，里面每一个元组就是一个多级索引\n",
    "    names 是多级索引名称，'first'是第一级索引的名称，'second'是第二列索引的名称\n",
    "    创建出来的 index 的类型就是pandas里面的 MultiIndex --多级索引类型\n",
    "    \n",
    "    这里仅以多级行索引举例，其实也是可以创建多级列索引的\n",
    "    "
   ]
  },
  {
   "cell_type": "code",
   "execution_count": 44,
   "id": "2a464562",
   "metadata": {},
   "outputs": [
    {
     "name": "stdout",
     "output_type": "stream",
     "text": [
      "[('bar', 'one'), ('bar', 'two'), ('baz', 'one'), ('baz', 'two'), ('foo', 'one'), ('foo', 'two'), ('qux', 'one'), ('qux', 'two')]\n",
      "----------------------------------------------------------------------------------------------------\n",
      "<class 'pandas.core.indexes.multi.MultiIndex'>\n",
      "----------------------------------------------------------------------------------------------------\n",
      "MultiIndex([('bar', 'one'),\n",
      "            ('bar', 'two'),\n",
      "            ('baz', 'one'),\n",
      "            ('baz', 'two'),\n",
      "            ('foo', 'one'),\n",
      "            ('foo', 'two'),\n",
      "            ('qux', 'one'),\n",
      "            ('qux', 'two')],\n",
      "           names=['first', 'second'])\n"
     ]
    }
   ],
   "source": [
    "import numpy as np\n",
    "import pandas as pd\n",
    "\n",
    "# 解压二维列表创建多级索引原始数据  --元组形式的键值对\n",
    "tuples = list(zip(*[['bar', 'bar', 'baz', 'baz',    # zip 解压，完了外边还套了个 list() 进行类型转换\n",
    "                    'foo', 'foo', 'qux', 'qux'],\n",
    "                    ['one', 'two', 'one', 'two',\n",
    "                     'one', 'two', 'one', 'two']]))\n",
    "print(tuples)\n",
    "print('-'*100)\n",
    "\n",
    "# 建立多列索引\n",
    "index = pd.MultiIndex.from_tuples(tuples, names=['first', 'second'])\n",
    "print(type(index))\n",
    "print('-'*100)\n",
    "print(index)"
   ]
  },
  {
   "cell_type": "markdown",
   "id": "d7250c3d",
   "metadata": {},
   "source": [
    "## 用多级索引创建 dataframe\n",
    "    多级索引就像现实生活中的物品的多级分类\n",
    "    比如：一级索引有：肉类、蔬菜、水果\n",
    "        肉类下面的二级索引又有：猪肉、牛肉，蔬菜又有土豆、番茄。。。。。。"
   ]
  },
  {
   "cell_type": "code",
   "execution_count": 45,
   "id": "6dac7f30",
   "metadata": {},
   "outputs": [
    {
     "name": "stdout",
     "output_type": "stream",
     "text": [
      "[('bar', 'one'), ('bar', 'two'), ('baz', 'one'), ('baz', 'two'), ('foo', 'one'), ('foo', 'two'), ('qux', 'one'), ('qux', 'two')]\n",
      "----------------------------------------------------------------------------------------------------\n",
      "<class 'pandas.core.indexes.multi.MultiIndex'>\n",
      "----------------------------------------------------------------------------------------------------\n",
      "MultiIndex([('bar', 'one'),\n",
      "            ('bar', 'two'),\n",
      "            ('baz', 'one'),\n",
      "            ('baz', 'two'),\n",
      "            ('foo', 'one'),\n",
      "            ('foo', 'two'),\n",
      "            ('qux', 'one'),\n",
      "            ('qux', 'two')],\n",
      "           names=['first', 'second'])\n"
     ]
    },
    {
     "data": {
      "text/html": [
       "<div>\n",
       "<style scoped>\n",
       "    .dataframe tbody tr th:only-of-type {\n",
       "        vertical-align: middle;\n",
       "    }\n",
       "\n",
       "    .dataframe tbody tr th {\n",
       "        vertical-align: top;\n",
       "    }\n",
       "\n",
       "    .dataframe thead th {\n",
       "        text-align: right;\n",
       "    }\n",
       "</style>\n",
       "<table border=\"1\" class=\"dataframe\">\n",
       "  <thead>\n",
       "    <tr style=\"text-align: right;\">\n",
       "      <th></th>\n",
       "      <th></th>\n",
       "      <th>A</th>\n",
       "      <th>B</th>\n",
       "    </tr>\n",
       "    <tr>\n",
       "      <th>first</th>\n",
       "      <th>second</th>\n",
       "      <th></th>\n",
       "      <th></th>\n",
       "    </tr>\n",
       "  </thead>\n",
       "  <tbody>\n",
       "    <tr>\n",
       "      <th rowspan=\"2\" valign=\"top\">bar</th>\n",
       "      <th>one</th>\n",
       "      <td>-0.347038</td>\n",
       "      <td>-0.908815</td>\n",
       "    </tr>\n",
       "    <tr>\n",
       "      <th>two</th>\n",
       "      <td>0.570003</td>\n",
       "      <td>1.272169</td>\n",
       "    </tr>\n",
       "    <tr>\n",
       "      <th rowspan=\"2\" valign=\"top\">baz</th>\n",
       "      <th>one</th>\n",
       "      <td>-1.572212</td>\n",
       "      <td>-1.568951</td>\n",
       "    </tr>\n",
       "    <tr>\n",
       "      <th>two</th>\n",
       "      <td>0.714448</td>\n",
       "      <td>1.059587</td>\n",
       "    </tr>\n",
       "    <tr>\n",
       "      <th rowspan=\"2\" valign=\"top\">foo</th>\n",
       "      <th>one</th>\n",
       "      <td>1.821898</td>\n",
       "      <td>0.591792</td>\n",
       "    </tr>\n",
       "    <tr>\n",
       "      <th>two</th>\n",
       "      <td>0.083503</td>\n",
       "      <td>-0.336465</td>\n",
       "    </tr>\n",
       "    <tr>\n",
       "      <th rowspan=\"2\" valign=\"top\">qux</th>\n",
       "      <th>one</th>\n",
       "      <td>-0.358073</td>\n",
       "      <td>-0.856256</td>\n",
       "    </tr>\n",
       "    <tr>\n",
       "      <th>two</th>\n",
       "      <td>0.086283</td>\n",
       "      <td>-0.334621</td>\n",
       "    </tr>\n",
       "  </tbody>\n",
       "</table>\n",
       "</div>"
      ],
      "text/plain": [
       "                     A         B\n",
       "first second                    \n",
       "bar   one    -0.347038 -0.908815\n",
       "      two     0.570003  1.272169\n",
       "baz   one    -1.572212 -1.568951\n",
       "      two     0.714448  1.059587\n",
       "foo   one     1.821898  0.591792\n",
       "      two     0.083503 -0.336465\n",
       "qux   one    -0.358073 -0.856256\n",
       "      two     0.086283 -0.334621"
      ]
     },
     "execution_count": 45,
     "metadata": {},
     "output_type": "execute_result"
    }
   ],
   "source": [
    "import numpy as np\n",
    "import pandas as pd\n",
    "\n",
    "# 解压二维列表创建多级索引原始数据  --元组形式的键值对\n",
    "tuples = list(zip(*[['bar', 'bar', 'baz', 'baz',    # zip 解压，完了外边还套了个 list() 进行类型转换\n",
    "                    'foo', 'foo', 'qux', 'qux'],\n",
    "                    ['one', 'two', 'one', 'two',\n",
    "                     'one', 'two', 'one', 'two']]))\n",
    "print(tuples)\n",
    "print('-'*100)\n",
    "\n",
    "# 建立多列索引\n",
    "index = pd.MultiIndex.from_tuples(tuples, names=['first', 'second'])\n",
    "print(type(index))\n",
    "print('-'*100)\n",
    "print(index)\n",
    "\n",
    "# 用多级索引创建 dataframe\n",
    "df = pd.DataFrame(np.random.randn(8, 2), index=index, columns=['A', 'B'])\n",
    "df"
   ]
  },
  {
   "cell_type": "markdown",
   "id": "b37ad08b",
   "metadata": {},
   "source": [
    "## df.stack()  --索引堆叠\n",
    "    将所有的列索引变成更高级别的行索引，加在已有的行索引后面形成多级索引\n",
    "    原本的dataframe 中的所有数据堆叠成只有一列（因为索引被堆叠起来了，一个索引对应唯一具体的数据）\n",
    "    堆叠后的东西是一个 series\n",
    "    返回新的 series，并不会改变原来的dataframe"
   ]
  },
  {
   "cell_type": "code",
   "execution_count": 51,
   "id": "404e9b3d",
   "metadata": {},
   "outputs": [
    {
     "name": "stdout",
     "output_type": "stream",
     "text": [
      "                     A         B\n",
      "first second                    \n",
      "bar   one    -0.347038 -0.908815\n",
      "      two     0.570003  1.272169\n",
      "baz   one    -1.572212 -1.568951\n",
      "      two     0.714448  1.059587\n",
      "foo   one     1.821898  0.591792\n",
      "      two     0.083503 -0.336465\n",
      "qux   one    -0.358073 -0.856256\n",
      "      two     0.086283 -0.334621\n",
      "----------------------------------------------------------------------------------------------------\n",
      "<class 'pandas.core.indexes.multi.MultiIndex'>\n",
      "----------------------------------------------------------------------------------------------------\n",
      "MultiIndex([('bar', 'one', 'A'),\n",
      "            ('bar', 'one', 'B'),\n",
      "            ('bar', 'two', 'A'),\n",
      "            ('bar', 'two', 'B'),\n",
      "            ('baz', 'one', 'A'),\n",
      "            ('baz', 'one', 'B'),\n",
      "            ('baz', 'two', 'A'),\n",
      "            ('baz', 'two', 'B'),\n",
      "            ('foo', 'one', 'A'),\n",
      "            ('foo', 'one', 'B'),\n",
      "            ('foo', 'two', 'A'),\n",
      "            ('foo', 'two', 'B'),\n",
      "            ('qux', 'one', 'A'),\n",
      "            ('qux', 'one', 'B'),\n",
      "            ('qux', 'two', 'A'),\n",
      "            ('qux', 'two', 'B')],\n",
      "           names=['first', 'second', None])\n",
      "----------------------------------------------------------------------------------------------------\n",
      "<class 'pandas.core.series.Series'>\n",
      "----------------------------------------------------------------------------------------------------\n",
      "first  second   \n",
      "bar    one     A   -0.347038\n",
      "               B   -0.908815\n",
      "       two     A    0.570003\n",
      "               B    1.272169\n",
      "baz    one     A   -1.572212\n",
      "               B   -1.568951\n",
      "       two     A    0.714448\n",
      "               B    1.059587\n",
      "foo    one     A    1.821898\n",
      "               B    0.591792\n",
      "       two     A    0.083503\n",
      "               B   -0.336465\n",
      "qux    one     A   -0.358073\n",
      "               B   -0.856256\n",
      "       two     A    0.086283\n",
      "               B   -0.334621\n",
      "dtype: float64\n"
     ]
    }
   ],
   "source": [
    "# 原来的 dataframe\n",
    "print(df)\n",
    "print('-'*100)\n",
    "\n",
    "# 索引堆叠\n",
    "stacked_df = df.stack()\n",
    "\n",
    "# 堆叠后的索引类型是多级索引\n",
    "print(type(stacked_df.index))\n",
    "print('-'*100)\n",
    "print(stacked_df.index)\n",
    "print('-'*100)\n",
    "\n",
    "# dataframe 堆叠后变成了series, 原本的列索引堆叠成高级行索引后没有给定索引名称，所以不会显示\n",
    "print(type(stacked_df))\n",
    "print('-'*100)\n",
    "print(stacked_df)"
   ]
  },
  {
   "cell_type": "markdown",
   "id": "3fefd3f9",
   "metadata": {},
   "source": [
    "## stacked_df.unstack()  --索引反堆叠\n",
    "    默认将最高级别的行索引拉回去变成列索引\n",
    "    返回新的 dataframe ，并不会改变原本的 series"
   ]
  },
  {
   "cell_type": "code",
   "execution_count": 57,
   "id": "7a731597",
   "metadata": {},
   "outputs": [
    {
     "name": "stdout",
     "output_type": "stream",
     "text": [
      "first  second   \n",
      "bar    one     A   -0.347038\n",
      "               B   -0.908815\n",
      "       two     A    0.570003\n",
      "               B    1.272169\n",
      "baz    one     A   -1.572212\n",
      "               B   -1.568951\n",
      "       two     A    0.714448\n",
      "               B    1.059587\n",
      "foo    one     A    1.821898\n",
      "               B    0.591792\n",
      "       two     A    0.083503\n",
      "               B   -0.336465\n",
      "qux    one     A   -0.358073\n",
      "               B   -0.856256\n",
      "       two     A    0.086283\n",
      "               B   -0.334621\n",
      "dtype: float64\n",
      "----------------------------------------------------------------------------------------------------\n",
      "<class 'pandas.core.frame.DataFrame'>\n",
      "----------------------------------------------------------------------------------------------------\n",
      "                     A         B\n",
      "first second                    \n",
      "bar   one    -0.347038 -0.908815\n",
      "      two     0.570003  1.272169\n",
      "baz   one    -1.572212 -1.568951\n",
      "      two     0.714448  1.059587\n",
      "foo   one     1.821898  0.591792\n",
      "      two     0.083503 -0.336465\n",
      "qux   one    -0.358073 -0.856256\n",
      "      two     0.086283 -0.334621\n"
     ]
    }
   ],
   "source": [
    "print(stacked_df)\n",
    "print('-'*100)\n",
    "\n",
    "# 反堆叠\n",
    "new_df = stacked_df.unstack()\n",
    "\n",
    "print(type(new_df))  # 反堆叠会返回一个新的 dataframe\n",
    "print('-'*100)\n",
    "print(new_df)"
   ]
  },
  {
   "cell_type": "markdown",
   "id": "e2a29ae2",
   "metadata": {},
   "source": [
    "# 十一、dataframe的超级透视\n",
    "    超级透视存在的目的就是为了调整数组整体布局让数据看起来更清晰"
   ]
  },
  {
   "cell_type": "markdown",
   "id": "939d1c29",
   "metadata": {},
   "source": [
    "## pd.pivot_table() --将一些重复数据太多的列调整成行索引/列索引\n",
    "    pd.pivot_table(df, values='D', index=['A', 'B'], columns=['C'])\n",
    "    参数说明：\n",
    "    df 是待调整的 dataframe\n",
    "    D列作为数值\n",
    "    A,B列的数据作为行索引，索引名称分别就是A和B\n",
    "    C作为列索引,索引名称就是C\n",
    "    \n",
    "    E列数据 抛弃\n",
    "    原本没有数据的格子填 NaN\n",
    "    \n",
    "    pd.pivot_table() 返回新的dataframe，原本的dataframe并不会改变"
   ]
  },
  {
   "cell_type": "code",
   "execution_count": 63,
   "id": "5bd13150",
   "metadata": {},
   "outputs": [
    {
     "name": "stdout",
     "output_type": "stream",
     "text": [
      "        A  B    C         D         E\n",
      "0     one  A  foo  0.031715 -1.581342\n",
      "1     one  B  foo -1.350762 -0.506713\n",
      "2     two  C  foo -1.591349 -0.348817\n",
      "3   three  A  bar -0.164754 -0.730010\n",
      "4     one  B  bar  2.496786 -1.000640\n",
      "5     one  C  bar -0.942709 -0.593374\n",
      "6     two  A  foo -0.716101 -0.641597\n",
      "7   three  B  foo -0.870068  1.049098\n",
      "8     one  C  foo -0.097461 -1.322398\n",
      "9     one  A  bar  0.417410  1.529648\n",
      "10    two  B  bar -0.100625 -0.807660\n",
      "11  three  C  bar -1.341994 -0.126290\n",
      "----------------------------------------------------------------------------------------------------\n"
     ]
    },
    {
     "data": {
      "text/html": [
       "<div>\n",
       "<style scoped>\n",
       "    .dataframe tbody tr th:only-of-type {\n",
       "        vertical-align: middle;\n",
       "    }\n",
       "\n",
       "    .dataframe tbody tr th {\n",
       "        vertical-align: top;\n",
       "    }\n",
       "\n",
       "    .dataframe thead th {\n",
       "        text-align: right;\n",
       "    }\n",
       "</style>\n",
       "<table border=\"1\" class=\"dataframe\">\n",
       "  <thead>\n",
       "    <tr style=\"text-align: right;\">\n",
       "      <th></th>\n",
       "      <th>C</th>\n",
       "      <th>bar</th>\n",
       "      <th>foo</th>\n",
       "    </tr>\n",
       "    <tr>\n",
       "      <th>A</th>\n",
       "      <th>B</th>\n",
       "      <th></th>\n",
       "      <th></th>\n",
       "    </tr>\n",
       "  </thead>\n",
       "  <tbody>\n",
       "    <tr>\n",
       "      <th rowspan=\"3\" valign=\"top\">one</th>\n",
       "      <th>A</th>\n",
       "      <td>0.417410</td>\n",
       "      <td>0.031715</td>\n",
       "    </tr>\n",
       "    <tr>\n",
       "      <th>B</th>\n",
       "      <td>2.496786</td>\n",
       "      <td>-1.350762</td>\n",
       "    </tr>\n",
       "    <tr>\n",
       "      <th>C</th>\n",
       "      <td>-0.942709</td>\n",
       "      <td>-0.097461</td>\n",
       "    </tr>\n",
       "    <tr>\n",
       "      <th rowspan=\"3\" valign=\"top\">three</th>\n",
       "      <th>A</th>\n",
       "      <td>-0.164754</td>\n",
       "      <td>NaN</td>\n",
       "    </tr>\n",
       "    <tr>\n",
       "      <th>B</th>\n",
       "      <td>NaN</td>\n",
       "      <td>-0.870068</td>\n",
       "    </tr>\n",
       "    <tr>\n",
       "      <th>C</th>\n",
       "      <td>-1.341994</td>\n",
       "      <td>NaN</td>\n",
       "    </tr>\n",
       "    <tr>\n",
       "      <th rowspan=\"3\" valign=\"top\">two</th>\n",
       "      <th>A</th>\n",
       "      <td>NaN</td>\n",
       "      <td>-0.716101</td>\n",
       "    </tr>\n",
       "    <tr>\n",
       "      <th>B</th>\n",
       "      <td>-0.100625</td>\n",
       "      <td>NaN</td>\n",
       "    </tr>\n",
       "    <tr>\n",
       "      <th>C</th>\n",
       "      <td>NaN</td>\n",
       "      <td>-1.591349</td>\n",
       "    </tr>\n",
       "  </tbody>\n",
       "</table>\n",
       "</div>"
      ],
      "text/plain": [
       "C             bar       foo\n",
       "A     B                    \n",
       "one   A  0.417410  0.031715\n",
       "      B  2.496786 -1.350762\n",
       "      C -0.942709 -0.097461\n",
       "three A -0.164754       NaN\n",
       "      B       NaN -0.870068\n",
       "      C -1.341994       NaN\n",
       "two   A       NaN -0.716101\n",
       "      B -0.100625       NaN\n",
       "      C       NaN -1.591349"
      ]
     },
     "execution_count": 63,
     "metadata": {},
     "output_type": "execute_result"
    }
   ],
   "source": [
    "import numpy as np\n",
    "import pandas as pd\n",
    "\n",
    "df = pd.DataFrame({'A': ['one', 'one', 'two', 'three'] * 3,\n",
    "                   'B': ['A', 'B', 'C'] * 4,\n",
    "                   'C': ['foo', 'foo', 'foo', 'bar', 'bar', 'bar'] * 2,\n",
    "                   'D': np.random.randn(12),\n",
    "                   'E': np.random.randn(12)})\n",
    "print(df)\n",
    "print('-'*100)\n",
    "\n",
    "# 超级透视\n",
    "# D列作为数值\n",
    "# A,B列的数据作为行索引，索引名称分别就是A和B\n",
    "# C作为列索引,索引名称就是C\n",
    "df = pd.pivot_table(df, values='D', index=['A', 'B'], columns=['C'])\n",
    "df"
   ]
  },
  {
   "cell_type": "markdown",
   "id": "74a7b979",
   "metadata": {},
   "source": [
    "# 十二、日期操作"
   ]
  },
  {
   "cell_type": "markdown",
   "id": "25dd978d",
   "metadata": {},
   "source": [
    "## pd.data_range()  --生成日期序列\n",
    "    pd.date_range('1/1/2012', periods=100, freq='Y')\n",
    "    参数说明：\n",
    "    '1/1/2012'   开始日期\n",
    "    periods=100  一共生成一百个时间片段\n",
    "    freq='Y'    一个时间片段的单位是 '年'"
   ]
  },
  {
   "cell_type": "code",
   "execution_count": 64,
   "id": "e5abf7c9",
   "metadata": {},
   "outputs": [
    {
     "name": "stdout",
     "output_type": "stream",
     "text": [
      "<class 'pandas.core.indexes.datetimes.DatetimeIndex'>\n",
      "----------------------------------------------------------------------------------------------------\n",
      "DatetimeIndex(['2012-12-31', '2013-12-31', '2014-12-31', '2015-12-31',\n",
      "               '2016-12-31', '2017-12-31', '2018-12-31', '2019-12-31',\n",
      "               '2020-12-31', '2021-12-31', '2022-12-31', '2023-12-31',\n",
      "               '2024-12-31', '2025-12-31', '2026-12-31', '2027-12-31',\n",
      "               '2028-12-31', '2029-12-31', '2030-12-31', '2031-12-31',\n",
      "               '2032-12-31', '2033-12-31', '2034-12-31', '2035-12-31',\n",
      "               '2036-12-31', '2037-12-31', '2038-12-31', '2039-12-31',\n",
      "               '2040-12-31', '2041-12-31', '2042-12-31', '2043-12-31',\n",
      "               '2044-12-31', '2045-12-31', '2046-12-31', '2047-12-31',\n",
      "               '2048-12-31', '2049-12-31', '2050-12-31', '2051-12-31',\n",
      "               '2052-12-31', '2053-12-31', '2054-12-31', '2055-12-31',\n",
      "               '2056-12-31', '2057-12-31', '2058-12-31', '2059-12-31',\n",
      "               '2060-12-31', '2061-12-31', '2062-12-31', '2063-12-31',\n",
      "               '2064-12-31', '2065-12-31', '2066-12-31', '2067-12-31',\n",
      "               '2068-12-31', '2069-12-31', '2070-12-31', '2071-12-31',\n",
      "               '2072-12-31', '2073-12-31', '2074-12-31', '2075-12-31',\n",
      "               '2076-12-31', '2077-12-31', '2078-12-31', '2079-12-31',\n",
      "               '2080-12-31', '2081-12-31', '2082-12-31', '2083-12-31',\n",
      "               '2084-12-31', '2085-12-31', '2086-12-31', '2087-12-31',\n",
      "               '2088-12-31', '2089-12-31', '2090-12-31', '2091-12-31',\n",
      "               '2092-12-31', '2093-12-31', '2094-12-31', '2095-12-31',\n",
      "               '2096-12-31', '2097-12-31', '2098-12-31', '2099-12-31',\n",
      "               '2100-12-31', '2101-12-31', '2102-12-31', '2103-12-31',\n",
      "               '2104-12-31', '2105-12-31', '2106-12-31', '2107-12-31',\n",
      "               '2108-12-31', '2109-12-31', '2110-12-31', '2111-12-31'],\n",
      "              dtype='datetime64[ns]', freq='A-DEC')\n"
     ]
    }
   ],
   "source": [
    "import numpy as np\n",
    "import pandas as pd\n",
    "\n",
    "# 生成日期序列\n",
    "dates = pd.date_range('1/1/2012', periods=100, freq='Y')   # 生成了从2012-12-31开始的100年，每年的12月31号\n",
    "\n",
    "print(type(dates))  # 日期序列的pandas数据类型是 DatetimeIndex\n",
    "print('-'*100)\n",
    "\n",
    "print(dates) "
   ]
  },
  {
   "cell_type": "markdown",
   "id": "bdf3d50a",
   "metadata": {},
   "source": [
    "## 日期操作常用接口\n",
    "    \n",
    "    ps = dates_series.to_period()  几月几号把几号去掉只保留几月\n",
    "    ps = ps.to_timestamp(how='e')  每个日期片段加上时间戳 "
   ]
  },
  {
   "cell_type": "code",
   "execution_count": 69,
   "id": "40573515",
   "metadata": {},
   "outputs": [
    {
     "name": "stdout",
     "output_type": "stream",
     "text": [
      "<class 'pandas.core.indexes.datetimes.DatetimeIndex'>\n",
      "----------------------------------------------------------------------------------------------------\n",
      "DatetimeIndex(['2012-01-31', '2012-02-29', '2012-03-31', '2012-04-30',\n",
      "               '2012-05-31'],\n",
      "              dtype='datetime64[ns]', freq='M')\n",
      "----------------------------------------------------------------------------------------------------\n",
      "<class 'pandas.core.series.Series'>\n",
      "----------------------------------------------------------------------------------------------------\n",
      "2012-01-31    0.740519\n",
      "2012-02-29    0.075239\n",
      "2012-03-31   -1.884939\n",
      "2012-04-30    0.000999\n",
      "2012-05-31   -0.308863\n",
      "Freq: M, dtype: float64\n",
      "----------------------------------------------------------------------------------------------------\n",
      "<class 'pandas.core.series.Series'>\n",
      "----------------------------------------------------------------------------------------------------\n",
      "2012-01    0.740519\n",
      "2012-02    0.075239\n",
      "2012-03   -1.884939\n",
      "2012-04    0.000999\n",
      "2012-05   -0.308863\n",
      "Freq: M, dtype: float64\n",
      "----------------------------------------------------------------------------------------------------\n",
      "<class 'pandas.core.series.Series'>\n",
      "----------------------------------------------------------------------------------------------------\n",
      "2012-01-31 23:59:59.999999999    0.740519\n",
      "2012-02-29 23:59:59.999999999    0.075239\n",
      "2012-03-31 23:59:59.999999999   -1.884939\n",
      "2012-04-30 23:59:59.999999999    0.000999\n",
      "2012-05-31 23:59:59.999999999   -0.308863\n",
      "dtype: float64\n",
      "----------------------------------------------------------------------------------------------------\n"
     ]
    }
   ],
   "source": [
    "import numpy as np\n",
    "import pandas as pd\n",
    "\n",
    "# 生成时间序列\n",
    "dates1 = pd.date_range('1/1/2012', periods=5, freq='M')\n",
    "print(type(dates1)) \n",
    "print('-'*100)\n",
    "print(dates1)\n",
    "print('-'*100)\n",
    "\n",
    "# 以 dates1 长度为生成随机数的个数创建series,,将dates1作为行索引\n",
    "dates_series = pd.Series(np.random.randn(len(dates1)), index=dates1)\n",
    "print(type(dates_series)) \n",
    "print('-'*100)\n",
    "print(dates_series)\n",
    "print('-'*100)\n",
    "\n",
    "# dates_series.to_period() 几月几号把几号去掉只保留几月\n",
    "ps = dates_series.to_period()  \n",
    "print(type(ps))  \n",
    "print('-'*100)\n",
    "print(ps)\n",
    "print('-'*100)\n",
    "\n",
    "# 每个日期片段加上时间戳\n",
    "ps = ps.to_timestamp(how='e')\n",
    "print(type(ps))  \n",
    "print('-'*100)\n",
    "print(ps)\n",
    "print('-'*100)"
   ]
  },
  {
   "cell_type": "markdown",
   "id": "05fec6a5",
   "metadata": {},
   "source": [
    "# 十三、设置列的 category 和 查询属于每个 category 的元素数量\n",
    "    法一：df[\"grade\"] = df[\"raw_grade\"].astype(\"category\")\n",
    "        以某一列的数据为原材料新增一列并将数据类型设置为 category\n",
    "        这种方法就是以现有的数据设置 category\n",
    "        \n",
    "        df[\"grade\"].cat.categories = [\"very good\", \"good\", \"very bad\"]\n",
    "        取到去重后的 category 还能对其赋值，从而对种类重命名\n",
    "\n",
    "\n",
    "    法二：另外还可以通过cat.set_categories() 方式自己提供新的数据设置新的 category \n",
    "        当设置了新的category时，这一列的数据如果和新的category没有一个是对应的，那么数据会被修改为 NaN\n",
    "        \n",
    "    df.loc['1','grade'] = 'very good'  \n",
    "    设置完了之后可以切片取到一块元素对其赋值（赋的值必须是属于某一个category,否则会报错）\n",
    "    \n",
    "    df.groupby(\"grade\").size()\n",
    "    统计某一列的 属于各个 category 的元素个数"
   ]
  },
  {
   "cell_type": "code",
   "execution_count": 86,
   "id": "ef389e3c",
   "metadata": {},
   "outputs": [
    {
     "name": "stdout",
     "output_type": "stream",
     "text": [
      "   id raw_grade\n",
      "0   1         a\n",
      "1   2         b\n",
      "2   3         b\n",
      "3   4         a\n",
      "4   5         a\n",
      "5   6         e\n",
      "----------------------------------------------------------------------------------------------------\n",
      "   id raw_grade grade\n",
      "0   1         a     a\n",
      "1   2         b     b\n",
      "2   3         b     b\n",
      "3   4         a     a\n",
      "4   5         a     a\n",
      "5   6         e     e\n",
      "----------------------------------------------------------------------------------------------------\n",
      "   id raw_grade grade\n",
      "0   1         a   NaN\n",
      "1   2         b   NaN\n",
      "2   3         b   NaN\n",
      "3   4         a   NaN\n",
      "4   5         a   NaN\n",
      "5   6         e   NaN\n",
      "----------------------------------------------------------------------------------------------------\n",
      "0    NaN\n",
      "1    NaN\n",
      "2    NaN\n",
      "3    NaN\n",
      "4    NaN\n",
      "5    NaN\n",
      "Name: grade, dtype: category\n",
      "Categories (3, object): ['bad', 'good', 'very good']\n",
      "----------------------------------------------------------------------------------------------------\n",
      "   id raw_grade      grade\n",
      "0   1         a        NaN\n",
      "1   2         b  very good\n",
      "2   3         b        NaN\n",
      "3   4         a        NaN\n",
      "4   5         a        NaN\n",
      "5   6         e        NaN\n",
      "----------------------------------------------------------------------------------------------------\n",
      "grade\n",
      "bad          0\n",
      "good         0\n",
      "very good    1\n",
      "dtype: int64\n",
      "----------------------------------------------------------------------------------------------------\n",
      "raw_grade\n",
      "a    3\n",
      "b    2\n",
      "e    1\n",
      "dtype: int64\n"
     ]
    }
   ],
   "source": [
    "import numpy as np\n",
    "import pandas as pd\n",
    "\n",
    "# 新建 dataframe\n",
    "df = pd.DataFrame({\"id\": [1, 2, 3, 4, 5, 6],\"raw_grade\": ['a', 'b', 'b', 'a', 'a', 'e']})\n",
    "print(df)\n",
    "print('-'*100)\n",
    "\n",
    "# 新增列：列名为 grade, 列数据是raw_grade 里的数据类型转为 catedory 后的数据\n",
    "df[\"grade\"] = df[\"raw_grade\"].astype(\"category\")\n",
    "print(df)\n",
    "print('-'*100)\n",
    "\n",
    "# 设置 category\n",
    "# 法一：\n",
    "# 以现有列的数据新增列并将列的数据的数值类型设置为 category(默认去重)\n",
    "# print(df[\"grade\"].cat.categories)\n",
    "# print('-'*100)\n",
    "\n",
    "# 取到去重后的 category 还能对其赋值，从而对种类重命名\n",
    "# df[\"grade\"].cat.categories = [\"very good\", \"good\", \"very bad\"]\n",
    "# print(df)\n",
    "# print('-'*100)\n",
    "\n",
    "# 法二：\n",
    "# 另外还可以通过cat.set_categories() 方式自己提供新的数据设置新的 category \n",
    "# 当设置了新的category时，会删除掉旧的类别，这将导致这一列的数据被修改为 NaN\n",
    "df[\"grade\"] = df[\"grade\"].cat.set_categories([\"bad\", \"good\", \"very good\"])  \n",
    "print(df)\n",
    "print('-'*100)\n",
    "\n",
    "# 查看修改后的列里面的数据及数据的category\n",
    "print(df['grade'])\n",
    "print('-'*100)\n",
    "\n",
    "# category 设置完了之后可以切片取到一块元素对其赋值（赋的值必须是属于某一个category）\n",
    "# df.loc[1,'grade'] = 'very good'\n",
    "df.iloc[1,2] = 'very good'\n",
    "print(df)\n",
    "print('-'*100)\n",
    "\n",
    "# 统计某一列的 属于各个 category 的元素个数\n",
    "print(df.groupby(\"grade\").size())\n",
    "print('-'*100)\n",
    "print(df.groupby(\"raw_grade\").size())"
   ]
  },
  {
   "cell_type": "markdown",
   "id": "14548ea2",
   "metadata": {},
   "source": [
    "# pandas 绘图与保存"
   ]
  },
  {
   "cell_type": "markdown",
   "id": "161d261c",
   "metadata": {},
   "source": [
    "## series0.plot()  --series 自带的 plot() 绘图方法\n",
    "    这图看起来像个地震监督信号图。。。\n",
    "    能整个随机的假图[doge]"
   ]
  },
  {
   "cell_type": "code",
   "execution_count": 92,
   "id": "52471739",
   "metadata": {},
   "outputs": [
    {
     "name": "stdout",
     "output_type": "stream",
     "text": [
      "2000-01-01   -1.850779\n",
      "2000-01-02   -1.666042\n",
      "2000-01-03   -1.850025\n",
      "2000-01-04   -0.872711\n",
      "2000-01-05   -0.149221\n",
      "Freq: D, dtype: float64\n",
      "sss\n"
     ]
    },
    {
     "data": {
      "image/png": "[encoded data removed]",
      "text/plain": [
       "<Figure size 432x288 with 1 Axes>"
      ]
     },
     "metadata": {
      "needs_background": "light"
     },
     "output_type": "display_data"
    }
   ],
   "source": [
    "import numpy as np\n",
    "import pandas as pd\n",
    "\n",
    "# 生成以1000天为行索引的series，数值用numpy随机生成\n",
    "series1 = pd.Series(np.random.randn(1000), index=pd.date_range('1/1/2000', periods=1000))\n",
    "print(series1.head(5))\n",
    "\n",
    "# series自带的plot() 绘图\n",
    "series1.plot()"
   ]
  },
  {
   "cell_type": "markdown",
   "id": "98da24a4",
   "metadata": {},
   "source": [
    "## dataframe 保存至外部文件 "
   ]
  },
  {
   "cell_type": "code",
   "execution_count": 95,
   "id": "fd2d2ad5",
   "metadata": {},
   "outputs": [
    {
     "name": "stdout",
     "output_type": "stream",
     "text": [
      "   id raw_grade      grade\n",
      "0   1         a        NaN\n",
      "1   2         b  very good\n",
      "2   3         b        NaN\n",
      "3   4         a        NaN\n",
      "4   5         a        NaN\n",
      "5   6         e        NaN\n"
     ]
    }
   ],
   "source": [
    "print(df)\n",
    "df.to_csv('foo.csv')  # 将当前df 保存至当前目录下的一个 csv 文件中"
   ]
  },
  {
   "cell_type": "markdown",
   "id": "532e4e75",
   "metadata": {},
   "source": [
    "## pd.read_csv  或 pd.read_excel  --读取外部文件"
   ]
  },
  {
   "cell_type": "code",
   "execution_count": 103,
   "id": "afb8b915",
   "metadata": {},
   "outputs": [
    {
     "name": "stdout",
     "output_type": "stream",
     "text": [
      "   Unnamed: 0  id raw_grade      grade\n",
      "0           0   1         a        NaN\n",
      "1           1   2         b  very good\n",
      "2           2   3         b        NaN\n",
      "3           3   4         a        NaN\n",
      "4           4   5         a        NaN\n",
      "5           5   6         e        NaN\n"
     ]
    }
   ],
   "source": [
    "pf10 = pd.read_csv('foo.csv')  # 读取文件，会多出一列行索引\n",
    "print(pf10)"
   ]
  }
 ],
 "metadata": {
  "kernelspec": {
   "display_name": "Python 3",
   "language": "python",
   "name": "python3"
  },
  "language_info": {
   "codemirror_mode": {
    "name": "ipython",
    "version": 3
   },
   "file_extension": ".py",
   "mimetype": "text/x-python",
   "name": "python",
   "nbconvert_exporter": "python",
   "pygments_lexer": "ipython3",
   "version": "3.6.8"
  }
 },
 "nbformat": 4,
 "nbformat_minor": 5
}
