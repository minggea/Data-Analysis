{
 "cells": [
  {
   "cell_type": "code",
   "execution_count": 1,
   "id": "1bb10f60",
   "metadata": {},
   "outputs": [
    {
     "name": "stdout",
     "output_type": "stream",
     "text": [
      "I am jupyter\n"
     ]
    }
   ],
   "source": [
    "print('I am jupyter')"
   ]
  },
  {
   "cell_type": "code",
   "execution_count": 2,
   "id": "1de1767f",
   "metadata": {},
   "outputs": [],
   "source": [
    "i = 3"
   ]
  },
  {
   "cell_type": "code",
   "execution_count": 3,
   "id": "d9d9be2d",
   "metadata": {},
   "outputs": [
    {
     "data": {
      "text/plain": [
       "3"
      ]
     },
     "execution_count": 3,
     "metadata": {},
     "output_type": "execute_result"
    }
   ],
   "source": [
    "i"
   ]
  },
  {
   "cell_type": "code",
   "execution_count": 1,
   "id": "f1b26d3a",
   "metadata": {},
   "outputs": [
    {
     "name": "stdout",
     "output_type": "stream",
     "text": [
      "I am jupyter\n"
     ]
    }
   ],
   "source": [
    "print('I am jupyter')"
   ]
  },
  {
   "cell_type": "code",
   "execution_count": 1,
   "id": "f23e48bf",
   "metadata": {},
   "outputs": [
    {
     "name": "stdout",
     "output_type": "stream",
     "text": [
      "I am jupyter\n"
     ]
    }
   ],
   "source": [
    "print('I am jupyter')"
   ]
  },
  {
   "cell_type": "code",
   "execution_count": 7,
   "id": "143edd91",
   "metadata": {},
   "outputs": [
    {
     "name": "stdout",
     "output_type": "stream",
     "text": [
      "I am jupyter\n"
     ]
    }
   ],
   "source": [
    "print('I am jupyter')"
   ]
  },
  {
   "cell_type": "code",
   "execution_count": 10,
   "id": "b4e577a3",
   "metadata": {},
   "outputs": [
    {
     "name": "stdout",
     "output_type": "stream",
     "text": [
      "i am dashen\n"
     ]
    }
   ],
   "source": [
    "def hi():\n",
    "    print('i am dashen')\n",
    "hi()"
   ]
  },
  {
   "cell_type": "code",
   "execution_count": null,
   "id": "c83167ab",
   "metadata": {},
   "outputs": [],
   "source": []
  },
  {
   "cell_type": "code",
   "execution_count": null,
   "id": "0b762042",
   "metadata": {},
   "outputs": [],
   "source": []
  },
  {
   "cell_type": "code",
   "execution_count": null,
   "id": "b0102344",
   "metadata": {},
   "outputs": [],
   "source": []
  }
 ],
 "metadata": {
  "kernelspec": {
   "display_name": "Python 3",
   "language": "python",
   "name": "python3"
  },
  "language_info": {
   "codemirror_mode": {
    "name": "ipython",
    "version": 3
   },
   "file_extension": ".py",
   "mimetype": "text/x-python",
   "name": "python",
   "nbconvert_exporter": "python",
   "pygments_lexer": "ipython3",
   "version": "3.6.8"
  }
 },
 "nbformat": 4,
 "nbformat_minor": 5
}
